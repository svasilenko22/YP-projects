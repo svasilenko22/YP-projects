{
 "cells": [
  {
   "cell_type": "markdown",
   "metadata": {},
   "source": [
    "Задачи проекта:\n",
    "\n",
    "Загрузить данные и подготовить к анализу\n",
    "\n",
    "Анализ данных\n",
    "- Соотношение видов объектов общественного питания по количеству. Построить график\n",
    "- Исследовать соотношение сетевых и несетевых заведений по количеству. Построить график\n",
    "- Определить, для каких объектов характерно сетевое распределение\n",
    "- Определить, что характерно для сетевых заведений: много заведений с небольшой посадкой или наоборот\n",
    "- Описать среднее количество посадочных мест для каждого вида объекта общественного питания. Построить графики\n",
    "- Выделить в отдельный столбец информацию об улице из столбца address\n",
    "- Построить граифк топ-10 улиц по количеству объектов общественного питания. Понять, в каких районах Москвы находятся эти улицы\n",
    "- Изучить распределение количества посадочных мест для улиц с большим количеством объектов общественного питания и выявить закономерности\n",
    "- Сделать общий вывод и дать рекомендации о виде заведения, количестве посадочных мест и районе расположения. Указать на пути развития сети\n",
    "\n",
    "Подготовка презентации"
   ]
  },
  {
   "cell_type": "markdown",
   "metadata": {},
   "source": [
    "### Загрузить данные и подготовить к анализу"
   ]
  },
  {
   "cell_type": "code",
   "execution_count": 1,
   "metadata": {},
   "outputs": [],
   "source": [
    "import pandas as pd\n",
    "import scipy.stats as stats\n",
    "import seaborn as sns\n",
    "import datetime as dt\n",
    "import numpy as np\n",
    "import matplotlib.pyplot as plt\n",
    "import warnings\n",
    "from bs4 import BeautifulSoup\n",
    "import requests\n",
    "from io import BytesIO"
   ]
  },
  {
   "cell_type": "markdown",
   "metadata": {},
   "source": [
    "Загрузим датасет и выполним предобработку данных - заголовки столбцов, тип данных, дубликаты и пропуски"
   ]
  },
  {
   "cell_type": "code",
   "execution_count": 2,
   "metadata": {},
   "outputs": [],
   "source": [
    "rest_data = pd.read_csv('/datasets/rest_data.csv')"
   ]
  },
  {
   "cell_type": "code",
   "execution_count": 3,
   "metadata": {},
   "outputs": [
    {
     "data": {
      "text/html": [
       "<div>\n",
       "<style scoped>\n",
       "    .dataframe tbody tr th:only-of-type {\n",
       "        vertical-align: middle;\n",
       "    }\n",
       "\n",
       "    .dataframe tbody tr th {\n",
       "        vertical-align: top;\n",
       "    }\n",
       "\n",
       "    .dataframe thead th {\n",
       "        text-align: right;\n",
       "    }\n",
       "</style>\n",
       "<table border=\"1\" class=\"dataframe\">\n",
       "  <thead>\n",
       "    <tr style=\"text-align: right;\">\n",
       "      <th></th>\n",
       "      <th>id</th>\n",
       "      <th>object_name</th>\n",
       "      <th>chain</th>\n",
       "      <th>object_type</th>\n",
       "      <th>address</th>\n",
       "      <th>number</th>\n",
       "    </tr>\n",
       "  </thead>\n",
       "  <tbody>\n",
       "    <tr>\n",
       "      <td>0</td>\n",
       "      <td>151635</td>\n",
       "      <td>СМЕТАНА</td>\n",
       "      <td>нет</td>\n",
       "      <td>кафе</td>\n",
       "      <td>город Москва, улица Егора Абакумова, дом 9</td>\n",
       "      <td>48</td>\n",
       "    </tr>\n",
       "    <tr>\n",
       "      <td>1</td>\n",
       "      <td>77874</td>\n",
       "      <td>Родник</td>\n",
       "      <td>нет</td>\n",
       "      <td>кафе</td>\n",
       "      <td>город Москва, улица Талалихина, дом 2/1, корпус 1</td>\n",
       "      <td>35</td>\n",
       "    </tr>\n",
       "    <tr>\n",
       "      <td>2</td>\n",
       "      <td>24309</td>\n",
       "      <td>Кафе «Академия»</td>\n",
       "      <td>нет</td>\n",
       "      <td>кафе</td>\n",
       "      <td>город Москва, Абельмановская улица, дом 6</td>\n",
       "      <td>95</td>\n",
       "    </tr>\n",
       "    <tr>\n",
       "      <td>3</td>\n",
       "      <td>21894</td>\n",
       "      <td>ПИЦЦЕТОРИЯ</td>\n",
       "      <td>да</td>\n",
       "      <td>кафе</td>\n",
       "      <td>город Москва, Абрамцевская улица, дом 1</td>\n",
       "      <td>40</td>\n",
       "    </tr>\n",
       "    <tr>\n",
       "      <td>4</td>\n",
       "      <td>119365</td>\n",
       "      <td>Кафе «Вишневая метель»</td>\n",
       "      <td>нет</td>\n",
       "      <td>кафе</td>\n",
       "      <td>город Москва, Абрамцевская улица, дом 9, корпус 1</td>\n",
       "      <td>50</td>\n",
       "    </tr>\n",
       "  </tbody>\n",
       "</table>\n",
       "</div>"
      ],
      "text/plain": [
       "       id             object_name chain object_type  \\\n",
       "0  151635                 СМЕТАНА   нет        кафе   \n",
       "1   77874                  Родник   нет        кафе   \n",
       "2   24309         Кафе «Академия»   нет        кафе   \n",
       "3   21894              ПИЦЦЕТОРИЯ    да        кафе   \n",
       "4  119365  Кафе «Вишневая метель»   нет        кафе   \n",
       "\n",
       "                                             address  number  \n",
       "0         город Москва, улица Егора Абакумова, дом 9      48  \n",
       "1  город Москва, улица Талалихина, дом 2/1, корпус 1      35  \n",
       "2          город Москва, Абельмановская улица, дом 6      95  \n",
       "3            город Москва, Абрамцевская улица, дом 1      40  \n",
       "4  город Москва, Абрамцевская улица, дом 9, корпус 1      50  "
      ]
     },
     "execution_count": 3,
     "metadata": {},
     "output_type": "execute_result"
    }
   ],
   "source": [
    "rest_data.head()"
   ]
  },
  {
   "cell_type": "markdown",
   "metadata": {},
   "source": [
    "Преобразуем названия столбцов"
   ]
  },
  {
   "cell_type": "code",
   "execution_count": 4,
   "metadata": {},
   "outputs": [],
   "source": [
    "rest_data.rename(columns = {'id':'id', 'object_name':'name', 'chain':'chain', \n",
    "                            'object_type':'type', 'address':'address', 'number':'number'}, inplace=True)"
   ]
  },
  {
   "cell_type": "code",
   "execution_count": 5,
   "metadata": {},
   "outputs": [
    {
     "data": {
      "text/plain": [
       "id         0\n",
       "name       0\n",
       "chain      0\n",
       "type       0\n",
       "address    0\n",
       "number     0\n",
       "dtype: int64"
      ]
     },
     "execution_count": 5,
     "metadata": {},
     "output_type": "execute_result"
    }
   ],
   "source": [
    "rest_data.isnull().sum()"
   ]
  },
  {
   "cell_type": "code",
   "execution_count": 6,
   "metadata": {},
   "outputs": [
    {
     "name": "stdout",
     "output_type": "stream",
     "text": [
      "<class 'pandas.core.frame.DataFrame'>\n",
      "RangeIndex: 15366 entries, 0 to 15365\n",
      "Data columns (total 6 columns):\n",
      "id         15366 non-null int64\n",
      "name       15366 non-null object\n",
      "chain      15366 non-null object\n",
      "type       15366 non-null object\n",
      "address    15366 non-null object\n",
      "number     15366 non-null int64\n",
      "dtypes: int64(2), object(4)\n",
      "memory usage: 720.4+ KB\n"
     ]
    }
   ],
   "source": [
    "rest_data.info()"
   ]
  },
  {
   "cell_type": "markdown",
   "metadata": {},
   "source": [
    "Пропуски отсутствуют, тип данных корректный во всех столбцах. Проверим значения в столбцах."
   ]
  },
  {
   "cell_type": "code",
   "execution_count": 7,
   "metadata": {},
   "outputs": [],
   "source": [
    "rest_data = rest_data.drop_duplicates().reset_index(drop=True)"
   ]
  },
  {
   "cell_type": "code",
   "execution_count": 8,
   "metadata": {},
   "outputs": [
    {
     "data": {
      "text/plain": [
       "кафе                                 6099\n",
       "столовая                             2587\n",
       "ресторан                             2285\n",
       "предприятие быстрого обслуживания    1923\n",
       "бар                                   856\n",
       "буфет                                 585\n",
       "кафетерий                             398\n",
       "закусочная                            360\n",
       "магазин (отдел кулинарии)             273\n",
       "Name: type, dtype: int64"
      ]
     },
     "execution_count": 8,
     "metadata": {},
     "output_type": "execute_result"
    }
   ],
   "source": [
    "rest_data['type'].value_counts()"
   ]
  },
  {
   "cell_type": "markdown",
   "metadata": {},
   "source": [
    "В типах заведений нет противоречивых категорий, предобработка не требуется"
   ]
  },
  {
   "cell_type": "code",
   "execution_count": 9,
   "metadata": {},
   "outputs": [
    {
     "data": {
      "text/plain": [
       "Столовая                        267\n",
       "Кафе                            236\n",
       "Шаурма                          234\n",
       "KFC                             155\n",
       "Шоколадница                     142\n",
       "                               ... \n",
       "Охунова У.Д.                      1\n",
       "БУФЕТ МУЗ.ШКОЛА ИМ. ГНЕСИНЫХ      1\n",
       "Кафе «Breakfast Club»             1\n",
       "Клюква                            1\n",
       "Арамье                            1\n",
       "Name: name, Length: 10393, dtype: int64"
      ]
     },
     "execution_count": 9,
     "metadata": {},
     "output_type": "execute_result"
    }
   ],
   "source": [
    "rest_data['name'].value_counts()"
   ]
  },
  {
   "cell_type": "markdown",
   "metadata": {},
   "source": [
    "Отбросим дубликаты по параметрам названия, сети, вида и адреса"
   ]
  },
  {
   "cell_type": "code",
   "execution_count": 10,
   "metadata": {},
   "outputs": [],
   "source": [
    "rest_data['name'] = rest_data['name'].str.lower()"
   ]
  },
  {
   "cell_type": "code",
   "execution_count": 11,
   "metadata": {},
   "outputs": [],
   "source": [
    "rest_data = rest_data.drop_duplicates(subset=['name','chain','type','address'], keep=False)"
   ]
  },
  {
   "cell_type": "code",
   "execution_count": 12,
   "metadata": {},
   "outputs": [
    {
     "name": "stdout",
     "output_type": "stream",
     "text": [
      "<class 'pandas.core.frame.DataFrame'>\n",
      "Int64Index: 15058 entries, 0 to 15364\n",
      "Data columns (total 6 columns):\n",
      "id         15058 non-null int64\n",
      "name       15058 non-null object\n",
      "chain      15058 non-null object\n",
      "type       15058 non-null object\n",
      "address    15058 non-null object\n",
      "number     15058 non-null int64\n",
      "dtypes: int64(2), object(4)\n",
      "memory usage: 823.5+ KB\n"
     ]
    }
   ],
   "source": [
    "rest_data.info()"
   ]
  },
  {
   "cell_type": "markdown",
   "metadata": {},
   "source": [
    "Выявлено 308 дублей в датасете. Это 2% от общего объема данных, что позволяет нам продолжить исследование"
   ]
  },
  {
   "cell_type": "markdown",
   "metadata": {},
   "source": [
    "Выделим из столбца с адресом города и оставим только Москву"
   ]
  },
  {
   "cell_type": "code",
   "execution_count": 13,
   "metadata": {},
   "outputs": [],
   "source": [
    "city_names = ['город','поселение','посёлок','поселок']\n",
    " \n",
    "def get_city(address):\n",
    "    for position in [0]:\n",
    "        for address_part in address.split(',')[position].split(' '):          \n",
    "            if address_part in city_names:\n",
    "                city = address.split(', ')[position]\n",
    "                return city"
   ]
  },
  {
   "cell_type": "code",
   "execution_count": 14,
   "metadata": {},
   "outputs": [],
   "source": [
    "rest_data['city'] = rest_data['address'].apply(get_city)"
   ]
  },
  {
   "cell_type": "code",
   "execution_count": 15,
   "metadata": {},
   "outputs": [],
   "source": [
    "rest_msc = rest_data[rest_data['city'] == 'город Москва'].reset_index()"
   ]
  },
  {
   "cell_type": "code",
   "execution_count": 16,
   "metadata": {},
   "outputs": [
    {
     "name": "stdout",
     "output_type": "stream",
     "text": [
      "<class 'pandas.core.frame.DataFrame'>\n",
      "RangeIndex: 14987 entries, 0 to 14986\n",
      "Data columns (total 8 columns):\n",
      "index      14987 non-null int64\n",
      "id         14987 non-null int64\n",
      "name       14987 non-null object\n",
      "chain      14987 non-null object\n",
      "type       14987 non-null object\n",
      "address    14987 non-null object\n",
      "number     14987 non-null int64\n",
      "city       14987 non-null object\n",
      "dtypes: int64(3), object(5)\n",
      "memory usage: 936.8+ KB\n"
     ]
    }
   ],
   "source": [
    "rest_msc.info()"
   ]
  },
  {
   "cell_type": "markdown",
   "metadata": {},
   "source": [
    "Среди наименований есть противоречивые данные. Так, встречаются заведения с названием Столовая и СТОЛОВАЯ. В случае с категорией заведений решение данного вопроса критически сказывается на результаты исследлования. В данном случае речь идет о названии заведений, которые могут обладать уникальными признаками (те же Столовая и СТОЛОВАЯ - это могут быть две разные сети общественного питания)"
   ]
  },
  {
   "cell_type": "markdown",
   "metadata": {},
   "source": [
    "Результаты предобратоки данных:\n",
    "1. В исходном датасете 15366 строк, и 6 столбцов с информацией о каждой точке общепита\n",
    "2. Пропуски в данных отсутвутют\n",
    "3. Формат данных корректный и не требует изменений\n",
    "4. Выделены строки заведений, относящихся только к Москве - 14987 точек общепита"
   ]
  },
  {
   "cell_type": "markdown",
   "metadata": {},
   "source": [
    "### Анализ данных"
   ]
  },
  {
   "cell_type": "markdown",
   "metadata": {},
   "source": [
    "#### Соотношение видов объектов общественного питания по количеству. Построить график"
   ]
  },
  {
   "cell_type": "code",
   "execution_count": 17,
   "metadata": {},
   "outputs": [
    {
     "data": {
      "text/html": [
       "<div>\n",
       "<style scoped>\n",
       "    .dataframe tbody tr th:only-of-type {\n",
       "        vertical-align: middle;\n",
       "    }\n",
       "\n",
       "    .dataframe tbody tr th {\n",
       "        vertical-align: top;\n",
       "    }\n",
       "\n",
       "    .dataframe thead th {\n",
       "        text-align: right;\n",
       "    }\n",
       "</style>\n",
       "<table border=\"1\" class=\"dataframe\">\n",
       "  <thead>\n",
       "    <tr style=\"text-align: right;\">\n",
       "      <th></th>\n",
       "      <th>type</th>\n",
       "      <th>id</th>\n",
       "    </tr>\n",
       "  </thead>\n",
       "  <tbody>\n",
       "    <tr>\n",
       "      <td>0</td>\n",
       "      <td>бар</td>\n",
       "      <td>849</td>\n",
       "    </tr>\n",
       "    <tr>\n",
       "      <td>1</td>\n",
       "      <td>буфет</td>\n",
       "      <td>553</td>\n",
       "    </tr>\n",
       "    <tr>\n",
       "      <td>2</td>\n",
       "      <td>закусочная</td>\n",
       "      <td>341</td>\n",
       "    </tr>\n",
       "    <tr>\n",
       "      <td>3</td>\n",
       "      <td>кафе</td>\n",
       "      <td>5919</td>\n",
       "    </tr>\n",
       "    <tr>\n",
       "      <td>4</td>\n",
       "      <td>кафетерий</td>\n",
       "      <td>386</td>\n",
       "    </tr>\n",
       "    <tr>\n",
       "      <td>5</td>\n",
       "      <td>магазин (отдел кулинарии)</td>\n",
       "      <td>270</td>\n",
       "    </tr>\n",
       "    <tr>\n",
       "      <td>6</td>\n",
       "      <td>предприятие быстрого обслуживания</td>\n",
       "      <td>1859</td>\n",
       "    </tr>\n",
       "    <tr>\n",
       "      <td>7</td>\n",
       "      <td>ресторан</td>\n",
       "      <td>2253</td>\n",
       "    </tr>\n",
       "    <tr>\n",
       "      <td>8</td>\n",
       "      <td>столовая</td>\n",
       "      <td>2557</td>\n",
       "    </tr>\n",
       "  </tbody>\n",
       "</table>\n",
       "</div>"
      ],
      "text/plain": [
       "                                type    id\n",
       "0                                бар   849\n",
       "1                              буфет   553\n",
       "2                         закусочная   341\n",
       "3                               кафе  5919\n",
       "4                          кафетерий   386\n",
       "5          магазин (отдел кулинарии)   270\n",
       "6  предприятие быстрого обслуживания  1859\n",
       "7                           ресторан  2253\n",
       "8                           столовая  2557"
      ]
     },
     "execution_count": 17,
     "metadata": {},
     "output_type": "execute_result"
    }
   ],
   "source": [
    "rest_data_by_types = rest_msc.groupby('type')['id'].agg('count').reset_index()\n",
    "rest_data_by_types"
   ]
  },
  {
   "cell_type": "code",
   "execution_count": 18,
   "metadata": {},
   "outputs": [
    {
     "data": {
      "image/png": "[encoded data removed]",
      "text/plain": [
       "<Figure size 864x648 with 1 Axes>"
      ]
     },
     "metadata": {
      "needs_background": "light"
     },
     "output_type": "display_data"
    }
   ],
   "source": [
    "plt.figure(figsize=(12, 9))\n",
    "plt.bar(rest_data_by_types['type'], rest_data_by_types['id'])\n",
    "plt.title('Распределение объектов по видам', fontsize=20)\n",
    "plt.xlabel('Вид', fontsize=12)\n",
    "plt.ylabel('Количество', fontsize=12)\n",
    "plt.xticks(rotation = 90)\n",
    "plt.grid();"
   ]
  },
  {
   "cell_type": "markdown",
   "metadata": {},
   "source": [
    "Исходя их графика и сгруппированной таблицы видно следующее:\n",
    "1. Наиболее распространенным видом заведения общепита является Кафе - около 6000;\n",
    "2. Следом располагаются Столовая, Ресторан и Предприятие быстрого обслуживания от 1900 до 2600;\n",
    "3. Наименьшее количество заведений в типах Закусочная, Кафетерий и Магазин (отдел кулинарии) - менее 400.\n",
    "\n",
    "Судя по всему, данное распределение объясняется спросом на определенный тип заведений и их популярность, а также ценовую доступность и тип кухни (алкоголь, выпечка, наличие полноценной собственной кухни и др.)"
   ]
  },
  {
   "cell_type": "markdown",
   "metadata": {},
   "source": [
    "#### Исследовать соотношение сетевых и несетевых заведений по количеству. Построить график"
   ]
  },
  {
   "cell_type": "code",
   "execution_count": 19,
   "metadata": {},
   "outputs": [],
   "source": [
    "rest_data_by_chain = rest_msc.groupby('chain')['id'].agg('count').reset_index()"
   ]
  },
  {
   "cell_type": "code",
   "execution_count": 20,
   "metadata": {},
   "outputs": [
    {
     "data": {
      "text/html": [
       "<div>\n",
       "<style scoped>\n",
       "    .dataframe tbody tr th:only-of-type {\n",
       "        vertical-align: middle;\n",
       "    }\n",
       "\n",
       "    .dataframe tbody tr th {\n",
       "        vertical-align: top;\n",
       "    }\n",
       "\n",
       "    .dataframe thead th {\n",
       "        text-align: right;\n",
       "    }\n",
       "</style>\n",
       "<table border=\"1\" class=\"dataframe\">\n",
       "  <thead>\n",
       "    <tr style=\"text-align: right;\">\n",
       "      <th></th>\n",
       "      <th>chain</th>\n",
       "      <th>id</th>\n",
       "    </tr>\n",
       "  </thead>\n",
       "  <tbody>\n",
       "    <tr>\n",
       "      <td>0</td>\n",
       "      <td>да</td>\n",
       "      <td>2918</td>\n",
       "    </tr>\n",
       "    <tr>\n",
       "      <td>1</td>\n",
       "      <td>нет</td>\n",
       "      <td>12069</td>\n",
       "    </tr>\n",
       "  </tbody>\n",
       "</table>\n",
       "</div>"
      ],
      "text/plain": [
       "  chain     id\n",
       "0    да   2918\n",
       "1   нет  12069"
      ]
     },
     "execution_count": 20,
     "metadata": {},
     "output_type": "execute_result"
    }
   ],
   "source": [
    "rest_data_by_chain"
   ]
  },
  {
   "cell_type": "code",
   "execution_count": 21,
   "metadata": {},
   "outputs": [
    {
     "data": {
      "image/png": "[encoded data removed]",
      "text/plain": [
       "<Figure size 864x648 with 1 Axes>"
      ]
     },
     "metadata": {
      "needs_background": "light"
     },
     "output_type": "display_data"
    }
   ],
   "source": [
    "plt.figure(figsize=(12, 9))\n",
    "plt.bar(rest_data_by_chain['chain'], rest_data_by_chain['id'])\n",
    "plt.title('Распределение объектов по сетевому признаку', fontsize=20)\n",
    "plt.xlabel('Сеть', fontsize=12)\n",
    "plt.ylabel('Количество', fontsize=12)\n",
    "plt.grid();"
   ]
  },
  {
   "cell_type": "markdown",
   "metadata": {},
   "source": [
    "Распределение указывает на очевидное преимущество несетевых заведений - 12069 против 2918"
   ]
  },
  {
   "cell_type": "markdown",
   "metadata": {},
   "source": [
    "#### Определить, для каких объектов характерно сетевое распределение"
   ]
  },
  {
   "cell_type": "code",
   "execution_count": 22,
   "metadata": {},
   "outputs": [],
   "source": [
    "rest_data_by_types_and_chain = rest_msc.groupby(['type', 'chain'])['id'].agg('count').reset_index()\n",
    "rest_data_by_types_and_chain = rest_data_by_types_and_chain.rename(columns={'type':'type', 'chain':'chain', 'id':'sum'})\n",
    "rest_data_by_types_total = rest_msc.groupby('type')['id'].agg('count').reset_index()\n",
    "rest_data_by_types_total = rest_data_by_types_total.rename(columns={'type':'type', 'id':'total'})"
   ]
  },
  {
   "cell_type": "code",
   "execution_count": 23,
   "metadata": {},
   "outputs": [
    {
     "data": {
      "text/html": [
       "<div>\n",
       "<style scoped>\n",
       "    .dataframe tbody tr th:only-of-type {\n",
       "        vertical-align: middle;\n",
       "    }\n",
       "\n",
       "    .dataframe tbody tr th {\n",
       "        vertical-align: top;\n",
       "    }\n",
       "\n",
       "    .dataframe thead th {\n",
       "        text-align: right;\n",
       "    }\n",
       "</style>\n",
       "<table border=\"1\" class=\"dataframe\">\n",
       "  <thead>\n",
       "    <tr style=\"text-align: right;\">\n",
       "      <th></th>\n",
       "      <th>type</th>\n",
       "      <th>chain</th>\n",
       "      <th>sum</th>\n",
       "    </tr>\n",
       "  </thead>\n",
       "  <tbody>\n",
       "    <tr>\n",
       "      <td>0</td>\n",
       "      <td>бар</td>\n",
       "      <td>да</td>\n",
       "      <td>37</td>\n",
       "    </tr>\n",
       "    <tr>\n",
       "      <td>2</td>\n",
       "      <td>буфет</td>\n",
       "      <td>да</td>\n",
       "      <td>11</td>\n",
       "    </tr>\n",
       "    <tr>\n",
       "      <td>4</td>\n",
       "      <td>закусочная</td>\n",
       "      <td>да</td>\n",
       "      <td>56</td>\n",
       "    </tr>\n",
       "    <tr>\n",
       "      <td>6</td>\n",
       "      <td>кафе</td>\n",
       "      <td>да</td>\n",
       "      <td>1372</td>\n",
       "    </tr>\n",
       "    <tr>\n",
       "      <td>8</td>\n",
       "      <td>кафетерий</td>\n",
       "      <td>да</td>\n",
       "      <td>50</td>\n",
       "    </tr>\n",
       "    <tr>\n",
       "      <td>10</td>\n",
       "      <td>магазин (отдел кулинарии)</td>\n",
       "      <td>да</td>\n",
       "      <td>78</td>\n",
       "    </tr>\n",
       "    <tr>\n",
       "      <td>12</td>\n",
       "      <td>предприятие быстрого обслуживания</td>\n",
       "      <td>да</td>\n",
       "      <td>773</td>\n",
       "    </tr>\n",
       "    <tr>\n",
       "      <td>14</td>\n",
       "      <td>ресторан</td>\n",
       "      <td>да</td>\n",
       "      <td>538</td>\n",
       "    </tr>\n",
       "    <tr>\n",
       "      <td>16</td>\n",
       "      <td>столовая</td>\n",
       "      <td>да</td>\n",
       "      <td>3</td>\n",
       "    </tr>\n",
       "  </tbody>\n",
       "</table>\n",
       "</div>"
      ],
      "text/plain": [
       "                                 type chain   sum\n",
       "0                                 бар    да    37\n",
       "2                               буфет    да    11\n",
       "4                          закусочная    да    56\n",
       "6                                кафе    да  1372\n",
       "8                           кафетерий    да    50\n",
       "10          магазин (отдел кулинарии)    да    78\n",
       "12  предприятие быстрого обслуживания    да   773\n",
       "14                           ресторан    да   538\n",
       "16                           столовая    да     3"
      ]
     },
     "execution_count": 23,
     "metadata": {},
     "output_type": "execute_result"
    }
   ],
   "source": [
    "rest_data_by_types_and_chain = rest_data_by_types_and_chain[rest_data_by_types_and_chain['chain'] == 'да']\n",
    "rest_data_by_types_and_chain"
   ]
  },
  {
   "cell_type": "code",
   "execution_count": 24,
   "metadata": {},
   "outputs": [],
   "source": [
    "rest_data_by_types_and_chain = rest_data_by_types_and_chain.merge(rest_data_by_types_total, on='type')"
   ]
  },
  {
   "cell_type": "code",
   "execution_count": 25,
   "metadata": {},
   "outputs": [
    {
     "data": {
      "text/html": [
       "<div>\n",
       "<style scoped>\n",
       "    .dataframe tbody tr th:only-of-type {\n",
       "        vertical-align: middle;\n",
       "    }\n",
       "\n",
       "    .dataframe tbody tr th {\n",
       "        vertical-align: top;\n",
       "    }\n",
       "\n",
       "    .dataframe thead th {\n",
       "        text-align: right;\n",
       "    }\n",
       "</style>\n",
       "<table border=\"1\" class=\"dataframe\">\n",
       "  <thead>\n",
       "    <tr style=\"text-align: right;\">\n",
       "      <th></th>\n",
       "      <th>type</th>\n",
       "      <th>chain</th>\n",
       "      <th>sum</th>\n",
       "      <th>total</th>\n",
       "      <th>part</th>\n",
       "    </tr>\n",
       "  </thead>\n",
       "  <tbody>\n",
       "    <tr>\n",
       "      <td>0</td>\n",
       "      <td>бар</td>\n",
       "      <td>да</td>\n",
       "      <td>37</td>\n",
       "      <td>849</td>\n",
       "      <td>0.044</td>\n",
       "    </tr>\n",
       "    <tr>\n",
       "      <td>1</td>\n",
       "      <td>буфет</td>\n",
       "      <td>да</td>\n",
       "      <td>11</td>\n",
       "      <td>553</td>\n",
       "      <td>0.020</td>\n",
       "    </tr>\n",
       "    <tr>\n",
       "      <td>2</td>\n",
       "      <td>закусочная</td>\n",
       "      <td>да</td>\n",
       "      <td>56</td>\n",
       "      <td>341</td>\n",
       "      <td>0.164</td>\n",
       "    </tr>\n",
       "    <tr>\n",
       "      <td>3</td>\n",
       "      <td>кафе</td>\n",
       "      <td>да</td>\n",
       "      <td>1372</td>\n",
       "      <td>5919</td>\n",
       "      <td>0.232</td>\n",
       "    </tr>\n",
       "    <tr>\n",
       "      <td>4</td>\n",
       "      <td>кафетерий</td>\n",
       "      <td>да</td>\n",
       "      <td>50</td>\n",
       "      <td>386</td>\n",
       "      <td>0.130</td>\n",
       "    </tr>\n",
       "    <tr>\n",
       "      <td>5</td>\n",
       "      <td>магазин (отдел кулинарии)</td>\n",
       "      <td>да</td>\n",
       "      <td>78</td>\n",
       "      <td>270</td>\n",
       "      <td>0.289</td>\n",
       "    </tr>\n",
       "    <tr>\n",
       "      <td>6</td>\n",
       "      <td>предприятие быстрого обслуживания</td>\n",
       "      <td>да</td>\n",
       "      <td>773</td>\n",
       "      <td>1859</td>\n",
       "      <td>0.416</td>\n",
       "    </tr>\n",
       "    <tr>\n",
       "      <td>7</td>\n",
       "      <td>ресторан</td>\n",
       "      <td>да</td>\n",
       "      <td>538</td>\n",
       "      <td>2253</td>\n",
       "      <td>0.239</td>\n",
       "    </tr>\n",
       "    <tr>\n",
       "      <td>8</td>\n",
       "      <td>столовая</td>\n",
       "      <td>да</td>\n",
       "      <td>3</td>\n",
       "      <td>2557</td>\n",
       "      <td>0.001</td>\n",
       "    </tr>\n",
       "  </tbody>\n",
       "</table>\n",
       "</div>"
      ],
      "text/plain": [
       "                                type chain   sum  total   part\n",
       "0                                бар    да    37    849  0.044\n",
       "1                              буфет    да    11    553  0.020\n",
       "2                         закусочная    да    56    341  0.164\n",
       "3                               кафе    да  1372   5919  0.232\n",
       "4                          кафетерий    да    50    386  0.130\n",
       "5          магазин (отдел кулинарии)    да    78    270  0.289\n",
       "6  предприятие быстрого обслуживания    да   773   1859  0.416\n",
       "7                           ресторан    да   538   2253  0.239\n",
       "8                           столовая    да     3   2557  0.001"
      ]
     },
     "execution_count": 25,
     "metadata": {},
     "output_type": "execute_result"
    }
   ],
   "source": [
    "rest_data_by_types_and_chain['part'] = (rest_data_by_types_and_chain['sum'] / rest_data_by_types_and_chain['total']).round(3)\n",
    "rest_data_by_types_and_chain"
   ]
  },
  {
   "cell_type": "code",
   "execution_count": 26,
   "metadata": {},
   "outputs": [
    {
     "data": {
      "image/png": "[encoded data removed]",
      "text/plain": [
       "<Figure size 864x648 with 1 Axes>"
      ]
     },
     "metadata": {
      "needs_background": "light"
     },
     "output_type": "display_data"
    }
   ],
   "source": [
    "plt.figure(figsize=(12, 9))\n",
    "sns.barplot(data=rest_data_by_types_and_chain, x='type', y='part')\n",
    "plt.title('Доля сетевых заведения по видам, %', fontsize=20)\n",
    "plt.xlabel('Вид', fontsize=12)\n",
    "plt.ylabel('Доля', fontsize=12)\n",
    "plt.xticks(rotation = 90)\n",
    "plt.grid();"
   ]
  },
  {
   "cell_type": "markdown",
   "metadata": {},
   "source": [
    "Категориальное распределение показало, что наиболее характерно сетевое распределение для предприятий быстрого обслуживания. Также большую долю сетевые общепиты занимают в закусочных, кафе, ресторанах и отделах кулинарии в магазинах"
   ]
  },
  {
   "cell_type": "markdown",
   "metadata": {},
   "source": [
    "#### Определить, что характерно для сетевых заведений: много заведений с небольшой посадкой или наоборот"
   ]
  },
  {
   "cell_type": "code",
   "execution_count": 27,
   "metadata": {},
   "outputs": [],
   "source": [
    "rest_data_chain = rest_msc[rest_msc['chain'] == 'да'].sort_values('number', ascending='False')"
   ]
  },
  {
   "cell_type": "code",
   "execution_count": 28,
   "metadata": {},
   "outputs": [
    {
     "data": {
      "text/plain": [
       "count    2918.000000\n",
       "mean       52.923578\n",
       "std        56.843873\n",
       "min         0.000000\n",
       "50%        40.000000\n",
       "80%        86.000000\n",
       "90%       120.000000\n",
       "max       580.000000\n",
       "Name: number, dtype: float64"
      ]
     },
     "execution_count": 28,
     "metadata": {},
     "output_type": "execute_result"
    }
   ],
   "source": [
    "rest_data_chain['number'].describe(percentiles=(0.5, 0.8, 0.9))"
   ]
  },
  {
   "cell_type": "code",
   "execution_count": 29,
   "metadata": {},
   "outputs": [
    {
     "data": {
      "image/png": "[encoded data removed]",
      "text/plain": [
       "<Figure size 864x648 with 1 Axes>"
      ]
     },
     "metadata": {
      "needs_background": "light"
     },
     "output_type": "display_data"
    }
   ],
   "source": [
    "number_scatter = pd.Series(range(0, len(rest_data_chain['name'])))\n",
    "\n",
    "plt.figure(figsize=(12, 9))\n",
    "\n",
    "plt.scatter(number_scatter, rest_data_chain['number'], label = 'Сетевые')\n",
    "plt.title('Распределение количества посадочных мест в сетевых заведениях', fontsize=15)\n",
    "plt.xlabel('Заведения', fontsize=12)\n",
    "plt.ylabel('Количество мест', fontsize=12)\n",
    "plt.grid();"
   ]
  },
  {
   "cell_type": "markdown",
   "metadata": {},
   "source": [
    "Распределение количества посадочных мест показывает, что до значения 100 идет постепенное увеличение количества мест от одного заведения к другому. После идет резкий рост (от 100 до 600). Статистическая характеристика подтверждает данное наблюдение и указывает, что 90% заведения имеют количество посадочных мест менее 120. \n",
    "\n",
    "На основе полученных данных можно заключить, что для сетевых заведений более характерно большое количество заведений с небольшой посадкой."
   ]
  },
  {
   "cell_type": "markdown",
   "metadata": {},
   "source": [
    "#### Описать среднее количество посадочных мест для каждого вида объекта общественного питания. Построить графики"
   ]
  },
  {
   "cell_type": "code",
   "execution_count": 30,
   "metadata": {},
   "outputs": [
    {
     "data": {
      "text/html": [
       "<div>\n",
       "<style scoped>\n",
       "    .dataframe tbody tr th:only-of-type {\n",
       "        vertical-align: middle;\n",
       "    }\n",
       "\n",
       "    .dataframe tbody tr th {\n",
       "        vertical-align: top;\n",
       "    }\n",
       "\n",
       "    .dataframe thead th {\n",
       "        text-align: right;\n",
       "    }\n",
       "</style>\n",
       "<table border=\"1\" class=\"dataframe\">\n",
       "  <thead>\n",
       "    <tr style=\"text-align: right;\">\n",
       "      <th></th>\n",
       "      <th>type</th>\n",
       "      <th>number</th>\n",
       "    </tr>\n",
       "  </thead>\n",
       "  <tbody>\n",
       "    <tr>\n",
       "      <td>8</td>\n",
       "      <td>столовая</td>\n",
       "      <td>131.0</td>\n",
       "    </tr>\n",
       "    <tr>\n",
       "      <td>7</td>\n",
       "      <td>ресторан</td>\n",
       "      <td>97.0</td>\n",
       "    </tr>\n",
       "    <tr>\n",
       "      <td>1</td>\n",
       "      <td>буфет</td>\n",
       "      <td>52.0</td>\n",
       "    </tr>\n",
       "    <tr>\n",
       "      <td>0</td>\n",
       "      <td>бар</td>\n",
       "      <td>44.0</td>\n",
       "    </tr>\n",
       "    <tr>\n",
       "      <td>3</td>\n",
       "      <td>кафе</td>\n",
       "      <td>40.0</td>\n",
       "    </tr>\n",
       "    <tr>\n",
       "      <td>6</td>\n",
       "      <td>предприятие быстрого обслуживания</td>\n",
       "      <td>21.0</td>\n",
       "    </tr>\n",
       "    <tr>\n",
       "      <td>4</td>\n",
       "      <td>кафетерий</td>\n",
       "      <td>9.0</td>\n",
       "    </tr>\n",
       "    <tr>\n",
       "      <td>2</td>\n",
       "      <td>закусочная</td>\n",
       "      <td>8.0</td>\n",
       "    </tr>\n",
       "    <tr>\n",
       "      <td>5</td>\n",
       "      <td>магазин (отдел кулинарии)</td>\n",
       "      <td>6.0</td>\n",
       "    </tr>\n",
       "  </tbody>\n",
       "</table>\n",
       "</div>"
      ],
      "text/plain": [
       "                                type  number\n",
       "8                           столовая   131.0\n",
       "7                           ресторан    97.0\n",
       "1                              буфет    52.0\n",
       "0                                бар    44.0\n",
       "3                               кафе    40.0\n",
       "6  предприятие быстрого обслуживания    21.0\n",
       "4                          кафетерий     9.0\n",
       "2                         закусочная     8.0\n",
       "5          магазин (отдел кулинарии)     6.0"
      ]
     },
     "execution_count": 30,
     "metadata": {},
     "output_type": "execute_result"
    }
   ],
   "source": [
    "numer_mean_by_types = rest_msc.groupby('type', as_index=False).agg({'number':'mean'}).round().sort_values('number', ascending=False)\n",
    "numer_mean_by_types"
   ]
  },
  {
   "cell_type": "code",
   "execution_count": 31,
   "metadata": {},
   "outputs": [
    {
     "data": {
      "image/png": "[encoded data removed]",
      "text/plain": [
       "<Figure size 864x648 with 1 Axes>"
      ]
     },
     "metadata": {},
     "output_type": "display_data"
    }
   ],
   "source": [
    "sns.set(rc={'figure.figsize':(12,9)})\n",
    "\n",
    "number_for_barplots = (rest_msc.groupby('type', as_index=False)\n",
    "                      .agg({'number':'mean'})\n",
    "                      .sort_values('number', ascending=False)\n",
    "                      .type\n",
    "                      .array)\n",
    "sns.barplot(x='type', y='number', data=rest_msc, order=number_for_barplots)\n",
    "plt.xticks(rotation=90)\n",
    "plt.title('Среднее количество мест в зависимости от вида объекта', fontsize=15)\n",
    "plt.xlabel('Вид заведения', fontsize=12)\n",
    "plt.ylabel('Среднее количество мест', fontsize=12);"
   ]
  },
  {
   "cell_type": "markdown",
   "metadata": {},
   "source": [
    "Распределение по среднему количеству посадочных мест показывает, что больше всего мест в столовых - 131 и ресторанах - 97. Это объясняется спецификой заведений и потребностью в одновременном обслуживании большого количества гостей на месте. В случае с кафетерием, закусочной и отделом кулинарии в магазинах ситуация обратная и среднее количество посадочных мест не превышает 10"
   ]
  },
  {
   "cell_type": "markdown",
   "metadata": {},
   "source": [
    "#### Выделить в отдельный столбец информацию об улице из столбца address"
   ]
  },
  {
   "cell_type": "code",
   "execution_count": 32,
   "metadata": {},
   "outputs": [],
   "source": [
    "street_names = ['улица','проспект','шоссе','проезд',\n",
    "                 'бульвар','переулок','набережная','площадь','вал','аллея']\n",
    " \n",
    "def get_street(address):\n",
    "    for position in [0,1,2]:\n",
    "        for address_part in address.split(',')[position].split(' '):          \n",
    "            if address_part in street_names:\n",
    "                street = address.split(', ')[position]\n",
    "                return street"
   ]
  },
  {
   "cell_type": "code",
   "execution_count": 33,
   "metadata": {},
   "outputs": [],
   "source": [
    "rest_msc['street'] = rest_msc['address'].apply(get_street).copy()"
   ]
  },
  {
   "cell_type": "code",
   "execution_count": 34,
   "metadata": {},
   "outputs": [
    {
     "data": {
      "text/html": [
       "<div>\n",
       "<style scoped>\n",
       "    .dataframe tbody tr th:only-of-type {\n",
       "        vertical-align: middle;\n",
       "    }\n",
       "\n",
       "    .dataframe tbody tr th {\n",
       "        vertical-align: top;\n",
       "    }\n",
       "\n",
       "    .dataframe thead th {\n",
       "        text-align: right;\n",
       "    }\n",
       "</style>\n",
       "<table border=\"1\" class=\"dataframe\">\n",
       "  <thead>\n",
       "    <tr style=\"text-align: right;\">\n",
       "      <th></th>\n",
       "      <th>index</th>\n",
       "      <th>id</th>\n",
       "      <th>name</th>\n",
       "      <th>chain</th>\n",
       "      <th>type</th>\n",
       "      <th>address</th>\n",
       "      <th>number</th>\n",
       "      <th>city</th>\n",
       "      <th>street</th>\n",
       "    </tr>\n",
       "  </thead>\n",
       "  <tbody>\n",
       "    <tr>\n",
       "      <td>0</td>\n",
       "      <td>0</td>\n",
       "      <td>151635</td>\n",
       "      <td>сметана</td>\n",
       "      <td>нет</td>\n",
       "      <td>кафе</td>\n",
       "      <td>город Москва, улица Егора Абакумова, дом 9</td>\n",
       "      <td>48</td>\n",
       "      <td>город Москва</td>\n",
       "      <td>улица Егора Абакумова</td>\n",
       "    </tr>\n",
       "    <tr>\n",
       "      <td>1</td>\n",
       "      <td>1</td>\n",
       "      <td>77874</td>\n",
       "      <td>родник</td>\n",
       "      <td>нет</td>\n",
       "      <td>кафе</td>\n",
       "      <td>город Москва, улица Талалихина, дом 2/1, корпус 1</td>\n",
       "      <td>35</td>\n",
       "      <td>город Москва</td>\n",
       "      <td>улица Талалихина</td>\n",
       "    </tr>\n",
       "    <tr>\n",
       "      <td>2</td>\n",
       "      <td>2</td>\n",
       "      <td>24309</td>\n",
       "      <td>кафе «академия»</td>\n",
       "      <td>нет</td>\n",
       "      <td>кафе</td>\n",
       "      <td>город Москва, Абельмановская улица, дом 6</td>\n",
       "      <td>95</td>\n",
       "      <td>город Москва</td>\n",
       "      <td>Абельмановская улица</td>\n",
       "    </tr>\n",
       "    <tr>\n",
       "      <td>3</td>\n",
       "      <td>3</td>\n",
       "      <td>21894</td>\n",
       "      <td>пиццетория</td>\n",
       "      <td>да</td>\n",
       "      <td>кафе</td>\n",
       "      <td>город Москва, Абрамцевская улица, дом 1</td>\n",
       "      <td>40</td>\n",
       "      <td>город Москва</td>\n",
       "      <td>Абрамцевская улица</td>\n",
       "    </tr>\n",
       "    <tr>\n",
       "      <td>4</td>\n",
       "      <td>4</td>\n",
       "      <td>119365</td>\n",
       "      <td>кафе «вишневая метель»</td>\n",
       "      <td>нет</td>\n",
       "      <td>кафе</td>\n",
       "      <td>город Москва, Абрамцевская улица, дом 9, корпус 1</td>\n",
       "      <td>50</td>\n",
       "      <td>город Москва</td>\n",
       "      <td>Абрамцевская улица</td>\n",
       "    </tr>\n",
       "    <tr>\n",
       "      <td>...</td>\n",
       "      <td>...</td>\n",
       "      <td>...</td>\n",
       "      <td>...</td>\n",
       "      <td>...</td>\n",
       "      <td>...</td>\n",
       "      <td>...</td>\n",
       "      <td>...</td>\n",
       "      <td>...</td>\n",
       "      <td>...</td>\n",
       "    </tr>\n",
       "    <tr>\n",
       "      <td>14982</td>\n",
       "      <td>15358</td>\n",
       "      <td>213724</td>\n",
       "      <td>шоколадница</td>\n",
       "      <td>да</td>\n",
       "      <td>кафе</td>\n",
       "      <td>город Москва, Варшавское шоссе, дом 87Б</td>\n",
       "      <td>54</td>\n",
       "      <td>город Москва</td>\n",
       "      <td>Варшавское шоссе</td>\n",
       "    </tr>\n",
       "    <tr>\n",
       "      <td>14983</td>\n",
       "      <td>15359</td>\n",
       "      <td>222077</td>\n",
       "      <td>кофейня «шоколадница»</td>\n",
       "      <td>да</td>\n",
       "      <td>кафе</td>\n",
       "      <td>город Москва, Кантемировская улица, дом 47</td>\n",
       "      <td>72</td>\n",
       "      <td>город Москва</td>\n",
       "      <td>Кантемировская улица</td>\n",
       "    </tr>\n",
       "    <tr>\n",
       "      <td>14984</td>\n",
       "      <td>15360</td>\n",
       "      <td>219759</td>\n",
       "      <td>шоколадница</td>\n",
       "      <td>да</td>\n",
       "      <td>кафе</td>\n",
       "      <td>город Москва, улица Вавилова, дом 3</td>\n",
       "      <td>36</td>\n",
       "      <td>город Москва</td>\n",
       "      <td>улица Вавилова</td>\n",
       "    </tr>\n",
       "    <tr>\n",
       "      <td>14985</td>\n",
       "      <td>15361</td>\n",
       "      <td>208537</td>\n",
       "      <td>шоколадница</td>\n",
       "      <td>да</td>\n",
       "      <td>кафе</td>\n",
       "      <td>город Москва, 3-й Крутицкий переулок, дом 18</td>\n",
       "      <td>50</td>\n",
       "      <td>город Москва</td>\n",
       "      <td>3-й Крутицкий переулок</td>\n",
       "    </tr>\n",
       "    <tr>\n",
       "      <td>14986</td>\n",
       "      <td>15364</td>\n",
       "      <td>221900</td>\n",
       "      <td>шоколадница</td>\n",
       "      <td>да</td>\n",
       "      <td>кафе</td>\n",
       "      <td>город Москва, поселение Московский, Киевское ш...</td>\n",
       "      <td>36</td>\n",
       "      <td>город Москва</td>\n",
       "      <td>Киевское шоссе</td>\n",
       "    </tr>\n",
       "  </tbody>\n",
       "</table>\n",
       "<p>14987 rows × 9 columns</p>\n",
       "</div>"
      ],
      "text/plain": [
       "       index      id                    name chain  type  \\\n",
       "0          0  151635                 сметана   нет  кафе   \n",
       "1          1   77874                  родник   нет  кафе   \n",
       "2          2   24309         кафе «академия»   нет  кафе   \n",
       "3          3   21894              пиццетория    да  кафе   \n",
       "4          4  119365  кафе «вишневая метель»   нет  кафе   \n",
       "...      ...     ...                     ...   ...   ...   \n",
       "14982  15358  213724             шоколадница    да  кафе   \n",
       "14983  15359  222077   кофейня «шоколадница»    да  кафе   \n",
       "14984  15360  219759             шоколадница    да  кафе   \n",
       "14985  15361  208537             шоколадница    да  кафе   \n",
       "14986  15364  221900             шоколадница    да  кафе   \n",
       "\n",
       "                                                 address  number  \\\n",
       "0             город Москва, улица Егора Абакумова, дом 9      48   \n",
       "1      город Москва, улица Талалихина, дом 2/1, корпус 1      35   \n",
       "2              город Москва, Абельмановская улица, дом 6      95   \n",
       "3                город Москва, Абрамцевская улица, дом 1      40   \n",
       "4      город Москва, Абрамцевская улица, дом 9, корпус 1      50   \n",
       "...                                                  ...     ...   \n",
       "14982            город Москва, Варшавское шоссе, дом 87Б      54   \n",
       "14983         город Москва, Кантемировская улица, дом 47      72   \n",
       "14984                город Москва, улица Вавилова, дом 3      36   \n",
       "14985       город Москва, 3-й Крутицкий переулок, дом 18      50   \n",
       "14986  город Москва, поселение Московский, Киевское ш...      36   \n",
       "\n",
       "               city                  street  \n",
       "0      город Москва   улица Егора Абакумова  \n",
       "1      город Москва        улица Талалихина  \n",
       "2      город Москва    Абельмановская улица  \n",
       "3      город Москва      Абрамцевская улица  \n",
       "4      город Москва      Абрамцевская улица  \n",
       "...             ...                     ...  \n",
       "14982  город Москва        Варшавское шоссе  \n",
       "14983  город Москва    Кантемировская улица  \n",
       "14984  город Москва          улица Вавилова  \n",
       "14985  город Москва  3-й Крутицкий переулок  \n",
       "14986  город Москва          Киевское шоссе  \n",
       "\n",
       "[14987 rows x 9 columns]"
      ]
     },
     "execution_count": 34,
     "metadata": {},
     "output_type": "execute_result"
    }
   ],
   "source": [
    "rest_msc"
   ]
  },
  {
   "cell_type": "markdown",
   "metadata": {},
   "source": [
    "#### Построить график топ-10 улиц по количеству объектов общественного питания. Понять, в каких районах Москвы находятся эти улицы"
   ]
  },
  {
   "cell_type": "markdown",
   "metadata": {},
   "source": [
    "Наиболее популярные улицы обнаружены, теперь определеим их районы"
   ]
  },
  {
   "cell_type": "code",
   "execution_count": 35,
   "metadata": {},
   "outputs": [],
   "source": [
    "address_for_dist = rest_msc[['address']].drop_duplicates().reset_index(drop=True)"
   ]
  },
  {
   "cell_type": "code",
   "execution_count": 36,
   "metadata": {},
   "outputs": [
    {
     "data": {
      "text/html": [
       "<div>\n",
       "<style scoped>\n",
       "    .dataframe tbody tr th:only-of-type {\n",
       "        vertical-align: middle;\n",
       "    }\n",
       "\n",
       "    .dataframe tbody tr th {\n",
       "        vertical-align: top;\n",
       "    }\n",
       "\n",
       "    .dataframe thead th {\n",
       "        text-align: right;\n",
       "    }\n",
       "</style>\n",
       "<table border=\"1\" class=\"dataframe\">\n",
       "  <thead>\n",
       "    <tr style=\"text-align: right;\">\n",
       "      <th></th>\n",
       "      <th>address</th>\n",
       "    </tr>\n",
       "  </thead>\n",
       "  <tbody>\n",
       "    <tr>\n",
       "      <td>0</td>\n",
       "      <td>город Москва, улица Егора Абакумова, дом 9</td>\n",
       "    </tr>\n",
       "    <tr>\n",
       "      <td>1</td>\n",
       "      <td>город Москва, улица Талалихина, дом 2/1, корпус 1</td>\n",
       "    </tr>\n",
       "    <tr>\n",
       "      <td>2</td>\n",
       "      <td>город Москва, Абельмановская улица, дом 6</td>\n",
       "    </tr>\n",
       "    <tr>\n",
       "      <td>3</td>\n",
       "      <td>город Москва, Абрамцевская улица, дом 1</td>\n",
       "    </tr>\n",
       "    <tr>\n",
       "      <td>4</td>\n",
       "      <td>город Москва, Абрамцевская улица, дом 9, корпус 1</td>\n",
       "    </tr>\n",
       "  </tbody>\n",
       "</table>\n",
       "</div>"
      ],
      "text/plain": [
       "                                             address\n",
       "0         город Москва, улица Егора Абакумова, дом 9\n",
       "1  город Москва, улица Талалихина, дом 2/1, корпус 1\n",
       "2          город Москва, Абельмановская улица, дом 6\n",
       "3            город Москва, Абрамцевская улица, дом 1\n",
       "4  город Москва, Абрамцевская улица, дом 9, корпус 1"
      ]
     },
     "execution_count": 36,
     "metadata": {},
     "output_type": "execute_result"
    }
   ],
   "source": [
    "address_for_dist.head()"
   ]
  },
  {
   "cell_type": "markdown",
   "metadata": {},
   "source": [
    "С помощью Геокодера составим запросы для определения координат адресов и после осуществим запрос для получения района соответствующих координат. Полученные данные сохраним в таблице на google sheets."
   ]
  },
  {
   "cell_type": "code",
   "execution_count": 37,
   "metadata": {},
   "outputs": [],
   "source": [
    "#pip install geopy\n",
    "#from geopy.geocoders import Yandex\n",
    "\n",
    "#geolocator = Yandex(api_key=\"cd47a2f3-f9f5-472f-83a0-5d1cbed9d92a\")\n",
    "#URL = 'https://geocode-maps.yandex.ru/1.x/?apikey=cd47a2f3-f9f5-472f-83a0-5d1cbed9d92a'\n",
    "\n",
    "#def coordinates(address):\n",
    "#    try:\n",
    "#        params = {'geocode':address}\n",
    "#        request = requests.get(url = URL, params=params)\n",
    "#        coords = BeautifulSoup(request.text, 'lxml').find('pos').text.split()\n",
    "#        return coords\n",
    "#    except:\n",
    "#        return np.nan\n",
    "    \n",
    "#def area(coords):\n",
    "#    try:\n",
    "#        coords = ', '.join(map(str, coords))\n",
    "#        params = {'geocode': coords, 'kind':'district', 'results':'1'}\n",
    "#        request = requests.get(url = URL, params=params)\n",
    "#        area = (BeautifulSoup(request.text, 'lxml')\n",
    "#                .find_all('name', attrs={'xmlns':'http://www.opengis.net/gml'})[0]\n",
    "#                .text\n",
    "#               )\n",
    "#        return area\n",
    "#    except:\n",
    "#        return np.nan\n",
    "\n",
    "#address_for_dist['coordinates'] = address_for_dist['address'].apply(coordinates)\n",
    "#address_for_dist['area'] = address_for_dist['coordinates'].apply(area)\n",
    "#address_for_dist.to_csv('address_for_dist.csv', index=False, encoding='utf-16', sep=';')"
   ]
  },
  {
   "cell_type": "code",
   "execution_count": 38,
   "metadata": {},
   "outputs": [],
   "source": [
    "spreadsheet_id = '1_lR0kCqKtOV-giq9TEhzAm7ypEyVuFLIi6C9EsUN80s'"
   ]
  },
  {
   "cell_type": "code",
   "execution_count": 39,
   "metadata": {},
   "outputs": [],
   "source": [
    "coords_and_area_doc = 'https://docs.google.com/spreadsheets/d/{}/export?format=csv'.format(spreadsheet_id)\n",
    "r = requests.get(coords_and_area_doc)\n",
    "coords_and_area = pd.read_csv(BytesIO(r.content))"
   ]
  },
  {
   "cell_type": "code",
   "execution_count": 40,
   "metadata": {},
   "outputs": [
    {
     "data": {
      "text/html": [
       "<div>\n",
       "<style scoped>\n",
       "    .dataframe tbody tr th:only-of-type {\n",
       "        vertical-align: middle;\n",
       "    }\n",
       "\n",
       "    .dataframe tbody tr th {\n",
       "        vertical-align: top;\n",
       "    }\n",
       "\n",
       "    .dataframe thead th {\n",
       "        text-align: right;\n",
       "    }\n",
       "</style>\n",
       "<table border=\"1\" class=\"dataframe\">\n",
       "  <thead>\n",
       "    <tr style=\"text-align: right;\">\n",
       "      <th></th>\n",
       "      <th>address</th>\n",
       "      <th>coordinates</th>\n",
       "      <th>area</th>\n",
       "      <th>street</th>\n",
       "    </tr>\n",
       "  </thead>\n",
       "  <tbody>\n",
       "    <tr>\n",
       "      <td>0</td>\n",
       "      <td>город Москва, улица Егора Абакумова, дом 9</td>\n",
       "      <td>['37.714474', '55.879005']</td>\n",
       "      <td>Ярославский район</td>\n",
       "      <td>улица Егора Абакумова</td>\n",
       "    </tr>\n",
       "    <tr>\n",
       "      <td>1</td>\n",
       "      <td>город Москва, улица Талалихина, дом 2/1, корпус 1</td>\n",
       "      <td>['37.673295', '55.738307']</td>\n",
       "      <td>Таганский район</td>\n",
       "      <td>улица Талалихина</td>\n",
       "    </tr>\n",
       "    <tr>\n",
       "      <td>2</td>\n",
       "      <td>город Москва, Абельмановская улица, дом 6</td>\n",
       "      <td>['37.669576', '55.735571']</td>\n",
       "      <td>Таганский район</td>\n",
       "      <td>Абельмановская улица</td>\n",
       "    </tr>\n",
       "    <tr>\n",
       "      <td>3</td>\n",
       "      <td>город Москва, Абрамцевская улица, дом 1</td>\n",
       "      <td>['37.573007', '55.892713']</td>\n",
       "      <td>район Лианозово</td>\n",
       "      <td>Абрамцевская улица</td>\n",
       "    </tr>\n",
       "    <tr>\n",
       "      <td>4</td>\n",
       "      <td>город Москва, Абрамцевская улица, дом 9, корпус 1</td>\n",
       "      <td>['37.572279', '55.904074']</td>\n",
       "      <td>район Лианозово</td>\n",
       "      <td>Абрамцевская улица</td>\n",
       "    </tr>\n",
       "    <tr>\n",
       "      <td>...</td>\n",
       "      <td>...</td>\n",
       "      <td>...</td>\n",
       "      <td>...</td>\n",
       "      <td>...</td>\n",
       "    </tr>\n",
       "    <tr>\n",
       "      <td>9019</td>\n",
       "      <td>город Москва, Профсоюзная улица, дом 142, корп...</td>\n",
       "      <td>['37.509334', '55.625481']</td>\n",
       "      <td>1-4-й микрорайон</td>\n",
       "      <td>Профсоюзная улица</td>\n",
       "    </tr>\n",
       "    <tr>\n",
       "      <td>9020</td>\n",
       "      <td>город Москва, Привольная улица, дом 11</td>\n",
       "      <td>['37.839214', '55.700618']</td>\n",
       "      <td>район Выхино-Жулебино</td>\n",
       "      <td>Привольная улица</td>\n",
       "    </tr>\n",
       "    <tr>\n",
       "      <td>9021</td>\n",
       "      <td>город Москва, Салтыковская улица, дом 7Г</td>\n",
       "      <td>['37.86169', '55.733579']</td>\n",
       "      <td>3-й микрорайон Новокосино</td>\n",
       "      <td>Салтыковская улица</td>\n",
       "    </tr>\n",
       "    <tr>\n",
       "      <td>9022</td>\n",
       "      <td>город Москва, Осенний бульвар, дом 9</td>\n",
       "      <td>['37.406765', '55.758255']</td>\n",
       "      <td>район Крылатское</td>\n",
       "      <td>Осенний бульвар</td>\n",
       "    </tr>\n",
       "    <tr>\n",
       "      <td>9023</td>\n",
       "      <td>город Москва, улица Новый Арбат, дом 13</td>\n",
       "      <td>['37.593983', '55.752105']</td>\n",
       "      <td>район Арбат</td>\n",
       "      <td>улица Новый Арбат</td>\n",
       "    </tr>\n",
       "  </tbody>\n",
       "</table>\n",
       "<p>9024 rows × 4 columns</p>\n",
       "</div>"
      ],
      "text/plain": [
       "                                                address  \\\n",
       "0            город Москва, улица Егора Абакумова, дом 9   \n",
       "1     город Москва, улица Талалихина, дом 2/1, корпус 1   \n",
       "2             город Москва, Абельмановская улица, дом 6   \n",
       "3               город Москва, Абрамцевская улица, дом 1   \n",
       "4     город Москва, Абрамцевская улица, дом 9, корпус 1   \n",
       "...                                                 ...   \n",
       "9019  город Москва, Профсоюзная улица, дом 142, корп...   \n",
       "9020             город Москва, Привольная улица, дом 11   \n",
       "9021           город Москва, Салтыковская улица, дом 7Г   \n",
       "9022               город Москва, Осенний бульвар, дом 9   \n",
       "9023            город Москва, улица Новый Арбат, дом 13   \n",
       "\n",
       "                     coordinates                       area  \\\n",
       "0     ['37.714474', '55.879005']          Ярославский район   \n",
       "1     ['37.673295', '55.738307']            Таганский район   \n",
       "2     ['37.669576', '55.735571']            Таганский район   \n",
       "3     ['37.573007', '55.892713']            район Лианозово   \n",
       "4     ['37.572279', '55.904074']            район Лианозово   \n",
       "...                          ...                        ...   \n",
       "9019  ['37.509334', '55.625481']           1-4-й микрорайон   \n",
       "9020  ['37.839214', '55.700618']      район Выхино-Жулебино   \n",
       "9021   ['37.86169', '55.733579']  3-й микрорайон Новокосино   \n",
       "9022  ['37.406765', '55.758255']           район Крылатское   \n",
       "9023  ['37.593983', '55.752105']                район Арбат   \n",
       "\n",
       "                     street  \n",
       "0     улица Егора Абакумова  \n",
       "1          улица Талалихина  \n",
       "2      Абельмановская улица  \n",
       "3        Абрамцевская улица  \n",
       "4        Абрамцевская улица  \n",
       "...                     ...  \n",
       "9019      Профсоюзная улица  \n",
       "9020       Привольная улица  \n",
       "9021     Салтыковская улица  \n",
       "9022        Осенний бульвар  \n",
       "9023      улица Новый Арбат  \n",
       "\n",
       "[9024 rows x 4 columns]"
      ]
     },
     "execution_count": 40,
     "metadata": {},
     "output_type": "execute_result"
    }
   ],
   "source": [
    "coords_and_area['street'] = coords_and_area['address'].apply(get_street).copy()\n",
    "coords_and_area"
   ]
  },
  {
   "cell_type": "code",
   "execution_count": 41,
   "metadata": {
    "scrolled": false
   },
   "outputs": [],
   "source": [
    "rest_msc = rest_msc.merge(coords_and_area, on='address')[['id', 'name', 'chain', 'type', 'address', 'number', \n",
    "                                                          'street_x', 'coordinates', 'area']].reset_index(drop=True)"
   ]
  },
  {
   "cell_type": "code",
   "execution_count": 42,
   "metadata": {},
   "outputs": [],
   "source": [
    "rest_msc = rest_msc.rename(columns={'id':'id', 'name':'name', 'chain':'chain', 'type':'type', 'address':'address', \n",
    "                         'number':'number', 'street_x':'street', 'coordinates':'coordinates', 'area':'area'})"
   ]
  },
  {
   "cell_type": "code",
   "execution_count": 43,
   "metadata": {},
   "outputs": [
    {
     "data": {
      "text/html": [
       "<div>\n",
       "<style scoped>\n",
       "    .dataframe tbody tr th:only-of-type {\n",
       "        vertical-align: middle;\n",
       "    }\n",
       "\n",
       "    .dataframe tbody tr th {\n",
       "        vertical-align: top;\n",
       "    }\n",
       "\n",
       "    .dataframe thead th {\n",
       "        text-align: right;\n",
       "    }\n",
       "</style>\n",
       "<table border=\"1\" class=\"dataframe\">\n",
       "  <thead>\n",
       "    <tr style=\"text-align: right;\">\n",
       "      <th></th>\n",
       "      <th>id</th>\n",
       "      <th>name</th>\n",
       "      <th>chain</th>\n",
       "      <th>type</th>\n",
       "      <th>address</th>\n",
       "      <th>number</th>\n",
       "      <th>street</th>\n",
       "      <th>coordinates</th>\n",
       "      <th>area</th>\n",
       "    </tr>\n",
       "  </thead>\n",
       "  <tbody>\n",
       "    <tr>\n",
       "      <td>0</td>\n",
       "      <td>151635</td>\n",
       "      <td>сметана</td>\n",
       "      <td>нет</td>\n",
       "      <td>кафе</td>\n",
       "      <td>город Москва, улица Егора Абакумова, дом 9</td>\n",
       "      <td>48</td>\n",
       "      <td>улица Егора Абакумова</td>\n",
       "      <td>['37.714474', '55.879005']</td>\n",
       "      <td>Ярославский район</td>\n",
       "    </tr>\n",
       "    <tr>\n",
       "      <td>1</td>\n",
       "      <td>77874</td>\n",
       "      <td>родник</td>\n",
       "      <td>нет</td>\n",
       "      <td>кафе</td>\n",
       "      <td>город Москва, улица Талалихина, дом 2/1, корпус 1</td>\n",
       "      <td>35</td>\n",
       "      <td>улица Талалихина</td>\n",
       "      <td>['37.673295', '55.738307']</td>\n",
       "      <td>Таганский район</td>\n",
       "    </tr>\n",
       "    <tr>\n",
       "      <td>2</td>\n",
       "      <td>24309</td>\n",
       "      <td>кафе «академия»</td>\n",
       "      <td>нет</td>\n",
       "      <td>кафе</td>\n",
       "      <td>город Москва, Абельмановская улица, дом 6</td>\n",
       "      <td>95</td>\n",
       "      <td>Абельмановская улица</td>\n",
       "      <td>['37.669576', '55.735571']</td>\n",
       "      <td>Таганский район</td>\n",
       "    </tr>\n",
       "    <tr>\n",
       "      <td>3</td>\n",
       "      <td>21894</td>\n",
       "      <td>пиццетория</td>\n",
       "      <td>да</td>\n",
       "      <td>кафе</td>\n",
       "      <td>город Москва, Абрамцевская улица, дом 1</td>\n",
       "      <td>40</td>\n",
       "      <td>Абрамцевская улица</td>\n",
       "      <td>['37.573007', '55.892713']</td>\n",
       "      <td>район Лианозово</td>\n",
       "    </tr>\n",
       "    <tr>\n",
       "      <td>4</td>\n",
       "      <td>119365</td>\n",
       "      <td>кафе «вишневая метель»</td>\n",
       "      <td>нет</td>\n",
       "      <td>кафе</td>\n",
       "      <td>город Москва, Абрамцевская улица, дом 9, корпус 1</td>\n",
       "      <td>50</td>\n",
       "      <td>Абрамцевская улица</td>\n",
       "      <td>['37.572279', '55.904074']</td>\n",
       "      <td>район Лианозово</td>\n",
       "    </tr>\n",
       "    <tr>\n",
       "      <td>...</td>\n",
       "      <td>...</td>\n",
       "      <td>...</td>\n",
       "      <td>...</td>\n",
       "      <td>...</td>\n",
       "      <td>...</td>\n",
       "      <td>...</td>\n",
       "      <td>...</td>\n",
       "      <td>...</td>\n",
       "      <td>...</td>\n",
       "    </tr>\n",
       "    <tr>\n",
       "      <td>14982</td>\n",
       "      <td>222491</td>\n",
       "      <td>кальянная «мята lounge»</td>\n",
       "      <td>да</td>\n",
       "      <td>кафе</td>\n",
       "      <td>город Москва, Профсоюзная улица, дом 142, корп...</td>\n",
       "      <td>40</td>\n",
       "      <td>Профсоюзная улица</td>\n",
       "      <td>['37.509334', '55.625481']</td>\n",
       "      <td>1-4-й микрорайон</td>\n",
       "    </tr>\n",
       "    <tr>\n",
       "      <td>14983</td>\n",
       "      <td>212216</td>\n",
       "      <td>мята lounge</td>\n",
       "      <td>да</td>\n",
       "      <td>кафе</td>\n",
       "      <td>город Москва, Привольная улица, дом 11</td>\n",
       "      <td>56</td>\n",
       "      <td>Привольная улица</td>\n",
       "      <td>['37.839214', '55.700618']</td>\n",
       "      <td>район Выхино-Жулебино</td>\n",
       "    </tr>\n",
       "    <tr>\n",
       "      <td>14984</td>\n",
       "      <td>206341</td>\n",
       "      <td>мята lounge</td>\n",
       "      <td>да</td>\n",
       "      <td>кафе</td>\n",
       "      <td>город Москва, Салтыковская улица, дом 7Г</td>\n",
       "      <td>100</td>\n",
       "      <td>Салтыковская улица</td>\n",
       "      <td>['37.86169', '55.733579']</td>\n",
       "      <td>3-й микрорайон Новокосино</td>\n",
       "    </tr>\n",
       "    <tr>\n",
       "      <td>14985</td>\n",
       "      <td>213772</td>\n",
       "      <td>тануки</td>\n",
       "      <td>да</td>\n",
       "      <td>ресторан</td>\n",
       "      <td>город Москва, Осенний бульвар, дом 9</td>\n",
       "      <td>98</td>\n",
       "      <td>Осенний бульвар</td>\n",
       "      <td>['37.406765', '55.758255']</td>\n",
       "      <td>район Крылатское</td>\n",
       "    </tr>\n",
       "    <tr>\n",
       "      <td>14986</td>\n",
       "      <td>74972</td>\n",
       "      <td>шоколадница</td>\n",
       "      <td>да</td>\n",
       "      <td>кафе</td>\n",
       "      <td>город Москва, улица Новый Арбат, дом 13</td>\n",
       "      <td>30</td>\n",
       "      <td>улица Новый Арбат</td>\n",
       "      <td>['37.593983', '55.752105']</td>\n",
       "      <td>район Арбат</td>\n",
       "    </tr>\n",
       "  </tbody>\n",
       "</table>\n",
       "<p>14987 rows × 9 columns</p>\n",
       "</div>"
      ],
      "text/plain": [
       "           id                     name chain      type  \\\n",
       "0      151635                  сметана   нет      кафе   \n",
       "1       77874                   родник   нет      кафе   \n",
       "2       24309          кафе «академия»   нет      кафе   \n",
       "3       21894               пиццетория    да      кафе   \n",
       "4      119365   кафе «вишневая метель»   нет      кафе   \n",
       "...       ...                      ...   ...       ...   \n",
       "14982  222491  кальянная «мята lounge»    да      кафе   \n",
       "14983  212216              мята lounge    да      кафе   \n",
       "14984  206341              мята lounge    да      кафе   \n",
       "14985  213772                   тануки    да  ресторан   \n",
       "14986   74972              шоколадница    да      кафе   \n",
       "\n",
       "                                                 address  number  \\\n",
       "0             город Москва, улица Егора Абакумова, дом 9      48   \n",
       "1      город Москва, улица Талалихина, дом 2/1, корпус 1      35   \n",
       "2              город Москва, Абельмановская улица, дом 6      95   \n",
       "3                город Москва, Абрамцевская улица, дом 1      40   \n",
       "4      город Москва, Абрамцевская улица, дом 9, корпус 1      50   \n",
       "...                                                  ...     ...   \n",
       "14982  город Москва, Профсоюзная улица, дом 142, корп...      40   \n",
       "14983             город Москва, Привольная улица, дом 11      56   \n",
       "14984           город Москва, Салтыковская улица, дом 7Г     100   \n",
       "14985               город Москва, Осенний бульвар, дом 9      98   \n",
       "14986            город Москва, улица Новый Арбат, дом 13      30   \n",
       "\n",
       "                      street                 coordinates  \\\n",
       "0      улица Егора Абакумова  ['37.714474', '55.879005']   \n",
       "1           улица Талалихина  ['37.673295', '55.738307']   \n",
       "2       Абельмановская улица  ['37.669576', '55.735571']   \n",
       "3         Абрамцевская улица  ['37.573007', '55.892713']   \n",
       "4         Абрамцевская улица  ['37.572279', '55.904074']   \n",
       "...                      ...                         ...   \n",
       "14982      Профсоюзная улица  ['37.509334', '55.625481']   \n",
       "14983       Привольная улица  ['37.839214', '55.700618']   \n",
       "14984     Салтыковская улица   ['37.86169', '55.733579']   \n",
       "14985        Осенний бульвар  ['37.406765', '55.758255']   \n",
       "14986      улица Новый Арбат  ['37.593983', '55.752105']   \n",
       "\n",
       "                            area  \n",
       "0              Ярославский район  \n",
       "1                Таганский район  \n",
       "2                Таганский район  \n",
       "3                район Лианозово  \n",
       "4                район Лианозово  \n",
       "...                          ...  \n",
       "14982           1-4-й микрорайон  \n",
       "14983      район Выхино-Жулебино  \n",
       "14984  3-й микрорайон Новокосино  \n",
       "14985           район Крылатское  \n",
       "14986                район Арбат  \n",
       "\n",
       "[14987 rows x 9 columns]"
      ]
     },
     "execution_count": 43,
     "metadata": {},
     "output_type": "execute_result"
    }
   ],
   "source": [
    "rest_msc"
   ]
  },
  {
   "cell_type": "code",
   "execution_count": 44,
   "metadata": {},
   "outputs": [],
   "source": [
    "rest_msc_top_10 = (rest_msc\n",
    "                   .pivot_table(index='street', values='area', aggfunc='count')\n",
    "                   .sort_values('area', ascending=False)\n",
    "                   .reset_index()\n",
    "                   .head(10)\n",
    "                  )\n",
    "rest_msc_top_10 = rest_msc_top_10.rename(columns={'street':'street', 'area':'total'})"
   ]
  },
  {
   "cell_type": "code",
   "execution_count": 45,
   "metadata": {},
   "outputs": [
    {
     "data": {
      "text/html": [
       "<div>\n",
       "<style scoped>\n",
       "    .dataframe tbody tr th:only-of-type {\n",
       "        vertical-align: middle;\n",
       "    }\n",
       "\n",
       "    .dataframe tbody tr th {\n",
       "        vertical-align: top;\n",
       "    }\n",
       "\n",
       "    .dataframe thead th {\n",
       "        text-align: right;\n",
       "    }\n",
       "</style>\n",
       "<table border=\"1\" class=\"dataframe\">\n",
       "  <thead>\n",
       "    <tr style=\"text-align: right;\">\n",
       "      <th></th>\n",
       "      <th>street</th>\n",
       "      <th>total</th>\n",
       "    </tr>\n",
       "  </thead>\n",
       "  <tbody>\n",
       "    <tr>\n",
       "      <td>0</td>\n",
       "      <td>проспект Мира</td>\n",
       "      <td>188</td>\n",
       "    </tr>\n",
       "    <tr>\n",
       "      <td>1</td>\n",
       "      <td>Профсоюзная улица</td>\n",
       "      <td>178</td>\n",
       "    </tr>\n",
       "    <tr>\n",
       "      <td>2</td>\n",
       "      <td>Ленинградский проспект</td>\n",
       "      <td>169</td>\n",
       "    </tr>\n",
       "    <tr>\n",
       "      <td>3</td>\n",
       "      <td>Пресненская набережная</td>\n",
       "      <td>163</td>\n",
       "    </tr>\n",
       "    <tr>\n",
       "      <td>4</td>\n",
       "      <td>Варшавское шоссе</td>\n",
       "      <td>158</td>\n",
       "    </tr>\n",
       "    <tr>\n",
       "      <td>5</td>\n",
       "      <td>Ленинский проспект</td>\n",
       "      <td>147</td>\n",
       "    </tr>\n",
       "    <tr>\n",
       "      <td>6</td>\n",
       "      <td>проспект Вернадского</td>\n",
       "      <td>121</td>\n",
       "    </tr>\n",
       "    <tr>\n",
       "      <td>7</td>\n",
       "      <td>Кутузовский проспект</td>\n",
       "      <td>114</td>\n",
       "    </tr>\n",
       "    <tr>\n",
       "      <td>8</td>\n",
       "      <td>Каширское шоссе</td>\n",
       "      <td>108</td>\n",
       "    </tr>\n",
       "    <tr>\n",
       "      <td>9</td>\n",
       "      <td>Кировоградская улица</td>\n",
       "      <td>104</td>\n",
       "    </tr>\n",
       "  </tbody>\n",
       "</table>\n",
       "</div>"
      ],
      "text/plain": [
       "                   street  total\n",
       "0           проспект Мира    188\n",
       "1       Профсоюзная улица    178\n",
       "2  Ленинградский проспект    169\n",
       "3  Пресненская набережная    163\n",
       "4        Варшавское шоссе    158\n",
       "5      Ленинский проспект    147\n",
       "6    проспект Вернадского    121\n",
       "7    Кутузовский проспект    114\n",
       "8         Каширское шоссе    108\n",
       "9    Кировоградская улица    104"
      ]
     },
     "execution_count": 45,
     "metadata": {},
     "output_type": "execute_result"
    }
   ],
   "source": [
    "rest_msc_top_10"
   ]
  },
  {
   "cell_type": "code",
   "execution_count": 46,
   "metadata": {},
   "outputs": [
    {
     "data": {
      "image/png": "[encoded data removed]",
      "text/plain": [
       "<Figure size 864x648 with 1 Axes>"
      ]
     },
     "metadata": {},
     "output_type": "display_data"
    }
   ],
   "source": [
    "plt.figure(figsize=(12, 9))\n",
    "plt.bar(rest_msc_top_10['street'], rest_msc_top_10['total'])\n",
    "plt.title('Топ 10 улиц', fontsize=20)\n",
    "plt.xlabel('Улица', fontsize=12)\n",
    "plt.ylabel('Количество заведений', fontsize=12)\n",
    "plt.xticks(rotation = 90);"
   ]
  },
  {
   "cell_type": "code",
   "execution_count": 47,
   "metadata": {},
   "outputs": [
    {
     "data": {
      "text/html": [
       "<div>\n",
       "<style scoped>\n",
       "    .dataframe tbody tr th:only-of-type {\n",
       "        vertical-align: middle;\n",
       "    }\n",
       "\n",
       "    .dataframe tbody tr th {\n",
       "        vertical-align: top;\n",
       "    }\n",
       "\n",
       "    .dataframe thead th {\n",
       "        text-align: right;\n",
       "    }\n",
       "</style>\n",
       "<table border=\"1\" class=\"dataframe\">\n",
       "  <thead>\n",
       "    <tr style=\"text-align: right;\">\n",
       "      <th></th>\n",
       "      <th>street</th>\n",
       "      <th>total</th>\n",
       "      <th>id</th>\n",
       "      <th>name</th>\n",
       "      <th>chain</th>\n",
       "      <th>type</th>\n",
       "      <th>address</th>\n",
       "      <th>number</th>\n",
       "      <th>coordinates</th>\n",
       "      <th>area</th>\n",
       "    </tr>\n",
       "  </thead>\n",
       "  <tbody>\n",
       "    <tr>\n",
       "      <td>0</td>\n",
       "      <td>проспект Мира</td>\n",
       "      <td>188</td>\n",
       "      <td>149899</td>\n",
       "      <td>сухарева башня</td>\n",
       "      <td>нет</td>\n",
       "      <td>кафе</td>\n",
       "      <td>город Москва, проспект Мира, дом 5, корпус 1</td>\n",
       "      <td>10</td>\n",
       "      <td>['37.631918', '55.774219']</td>\n",
       "      <td>Мещанский район</td>\n",
       "    </tr>\n",
       "    <tr>\n",
       "      <td>1</td>\n",
       "      <td>проспект Мира</td>\n",
       "      <td>188</td>\n",
       "      <td>69300</td>\n",
       "      <td>ваби-саби</td>\n",
       "      <td>да</td>\n",
       "      <td>кафе</td>\n",
       "      <td>город Москва, проспект Мира, дом 29</td>\n",
       "      <td>64</td>\n",
       "      <td>['37.63252', '55.779803']</td>\n",
       "      <td>Мещанский район</td>\n",
       "    </tr>\n",
       "    <tr>\n",
       "      <td>2</td>\n",
       "      <td>проспект Мира</td>\n",
       "      <td>188</td>\n",
       "      <td>71378</td>\n",
       "      <td>шоколадница</td>\n",
       "      <td>да</td>\n",
       "      <td>кафе</td>\n",
       "      <td>город Москва, проспект Мира, дом 29</td>\n",
       "      <td>40</td>\n",
       "      <td>['37.63252', '55.779803']</td>\n",
       "      <td>Мещанский район</td>\n",
       "    </tr>\n",
       "    <tr>\n",
       "      <td>3</td>\n",
       "      <td>проспект Мира</td>\n",
       "      <td>188</td>\n",
       "      <td>146123</td>\n",
       "      <td>джаганнат</td>\n",
       "      <td>да</td>\n",
       "      <td>кафе</td>\n",
       "      <td>город Москва, проспект Мира, дом 31</td>\n",
       "      <td>25</td>\n",
       "      <td>['37.632592', '55.780122']</td>\n",
       "      <td>Мещанский район</td>\n",
       "    </tr>\n",
       "    <tr>\n",
       "      <td>4</td>\n",
       "      <td>проспект Мира</td>\n",
       "      <td>188</td>\n",
       "      <td>137644</td>\n",
       "      <td>krispy creme</td>\n",
       "      <td>да</td>\n",
       "      <td>кафе</td>\n",
       "      <td>город Москва, проспект Мира, дом 40</td>\n",
       "      <td>36</td>\n",
       "      <td>['37.633949', '55.780203']</td>\n",
       "      <td>Мещанский район</td>\n",
       "    </tr>\n",
       "    <tr>\n",
       "      <td>...</td>\n",
       "      <td>...</td>\n",
       "      <td>...</td>\n",
       "      <td>...</td>\n",
       "      <td>...</td>\n",
       "      <td>...</td>\n",
       "      <td>...</td>\n",
       "      <td>...</td>\n",
       "      <td>...</td>\n",
       "      <td>...</td>\n",
       "      <td>...</td>\n",
       "    </tr>\n",
       "    <tr>\n",
       "      <td>1448</td>\n",
       "      <td>Кировоградская улица</td>\n",
       "      <td>104</td>\n",
       "      <td>222905</td>\n",
       "      <td>шаурма, куры гриль, выпечка</td>\n",
       "      <td>нет</td>\n",
       "      <td>предприятие быстрого обслуживания</td>\n",
       "      <td>город Москва, Кировоградская улица, владение 15А</td>\n",
       "      <td>0</td>\n",
       "      <td>['37.603415', '55.609924']</td>\n",
       "      <td>район Чертаново Центральное</td>\n",
       "    </tr>\n",
       "    <tr>\n",
       "      <td>1449</td>\n",
       "      <td>Кировоградская улица</td>\n",
       "      <td>104</td>\n",
       "      <td>222913</td>\n",
       "      <td>шашлык на углях</td>\n",
       "      <td>нет</td>\n",
       "      <td>закусочная</td>\n",
       "      <td>город Москва, Кировоградская улица, владение 15А</td>\n",
       "      <td>6</td>\n",
       "      <td>['37.603415', '55.609924']</td>\n",
       "      <td>район Чертаново Центральное</td>\n",
       "    </tr>\n",
       "    <tr>\n",
       "      <td>1450</td>\n",
       "      <td>Кировоградская улица</td>\n",
       "      <td>104</td>\n",
       "      <td>191227</td>\n",
       "      <td>предприятие быстрого обслуживания «шаурма, кур...</td>\n",
       "      <td>нет</td>\n",
       "      <td>предприятие быстрого обслуживания</td>\n",
       "      <td>город Москва, Кировоградская улица, дом 12, ко...</td>\n",
       "      <td>0</td>\n",
       "      <td>['37.608715', '55.623991']</td>\n",
       "      <td>район Чертаново Северное</td>\n",
       "    </tr>\n",
       "    <tr>\n",
       "      <td>1451</td>\n",
       "      <td>Кировоградская улица</td>\n",
       "      <td>104</td>\n",
       "      <td>191657</td>\n",
       "      <td>пиццерия «пицца хат»</td>\n",
       "      <td>да</td>\n",
       "      <td>кафе</td>\n",
       "      <td>город Москва, Кировоградская улица, дом 23А</td>\n",
       "      <td>40</td>\n",
       "      <td>['37.598995', '55.600389']</td>\n",
       "      <td>район Чертаново Южное</td>\n",
       "    </tr>\n",
       "    <tr>\n",
       "      <td>1452</td>\n",
       "      <td>Кировоградская улица</td>\n",
       "      <td>104</td>\n",
       "      <td>218698</td>\n",
       "      <td>кофейня</td>\n",
       "      <td>нет</td>\n",
       "      <td>кафе</td>\n",
       "      <td>город Москва, Кировоградская улица, дом 11, ко...</td>\n",
       "      <td>12</td>\n",
       "      <td>['37.606622', '55.614561']</td>\n",
       "      <td>район Чертаново Центральное</td>\n",
       "    </tr>\n",
       "  </tbody>\n",
       "</table>\n",
       "<p>1453 rows × 10 columns</p>\n",
       "</div>"
      ],
      "text/plain": [
       "                    street  total      id  \\\n",
       "0            проспект Мира    188  149899   \n",
       "1            проспект Мира    188   69300   \n",
       "2            проспект Мира    188   71378   \n",
       "3            проспект Мира    188  146123   \n",
       "4            проспект Мира    188  137644   \n",
       "...                    ...    ...     ...   \n",
       "1448  Кировоградская улица    104  222905   \n",
       "1449  Кировоградская улица    104  222913   \n",
       "1450  Кировоградская улица    104  191227   \n",
       "1451  Кировоградская улица    104  191657   \n",
       "1452  Кировоградская улица    104  218698   \n",
       "\n",
       "                                                   name chain  \\\n",
       "0                                        сухарева башня   нет   \n",
       "1                                             ваби-саби    да   \n",
       "2                                           шоколадница    да   \n",
       "3                                             джаганнат    да   \n",
       "4                                          krispy creme    да   \n",
       "...                                                 ...   ...   \n",
       "1448                        шаурма, куры гриль, выпечка   нет   \n",
       "1449                                    шашлык на углях   нет   \n",
       "1450  предприятие быстрого обслуживания «шаурма, кур...   нет   \n",
       "1451                               пиццерия «пицца хат»    да   \n",
       "1452                                            кофейня   нет   \n",
       "\n",
       "                                   type  \\\n",
       "0                                  кафе   \n",
       "1                                  кафе   \n",
       "2                                  кафе   \n",
       "3                                  кафе   \n",
       "4                                  кафе   \n",
       "...                                 ...   \n",
       "1448  предприятие быстрого обслуживания   \n",
       "1449                         закусочная   \n",
       "1450  предприятие быстрого обслуживания   \n",
       "1451                               кафе   \n",
       "1452                               кафе   \n",
       "\n",
       "                                                address  number  \\\n",
       "0          город Москва, проспект Мира, дом 5, корпус 1      10   \n",
       "1                   город Москва, проспект Мира, дом 29      64   \n",
       "2                   город Москва, проспект Мира, дом 29      40   \n",
       "3                   город Москва, проспект Мира, дом 31      25   \n",
       "4                   город Москва, проспект Мира, дом 40      36   \n",
       "...                                                 ...     ...   \n",
       "1448   город Москва, Кировоградская улица, владение 15А       0   \n",
       "1449   город Москва, Кировоградская улица, владение 15А       6   \n",
       "1450  город Москва, Кировоградская улица, дом 12, ко...       0   \n",
       "1451        город Москва, Кировоградская улица, дом 23А      40   \n",
       "1452  город Москва, Кировоградская улица, дом 11, ко...      12   \n",
       "\n",
       "                     coordinates                         area  \n",
       "0     ['37.631918', '55.774219']              Мещанский район  \n",
       "1      ['37.63252', '55.779803']              Мещанский район  \n",
       "2      ['37.63252', '55.779803']              Мещанский район  \n",
       "3     ['37.632592', '55.780122']              Мещанский район  \n",
       "4     ['37.633949', '55.780203']              Мещанский район  \n",
       "...                          ...                          ...  \n",
       "1448  ['37.603415', '55.609924']  район Чертаново Центральное  \n",
       "1449  ['37.603415', '55.609924']  район Чертаново Центральное  \n",
       "1450  ['37.608715', '55.623991']     район Чертаново Северное  \n",
       "1451  ['37.598995', '55.600389']        район Чертаново Южное  \n",
       "1452  ['37.606622', '55.614561']  район Чертаново Центральное  \n",
       "\n",
       "[1453 rows x 10 columns]"
      ]
     },
     "execution_count": 47,
     "metadata": {},
     "output_type": "execute_result"
    }
   ],
   "source": [
    "top_10_merged = rest_msc_top_10.merge(rest_msc, on='street', how='left')\n",
    "top_10_merged"
   ]
  },
  {
   "cell_type": "code",
   "execution_count": 48,
   "metadata": {},
   "outputs": [],
   "source": [
    "top_10_merged = top_10_merged[top_10_merged['area'].str.contains('район', na=False) &\n",
    "                              ~(top_10_merged['area'].str.contains('микрорайон', na=False))]"
   ]
  },
  {
   "cell_type": "code",
   "execution_count": 49,
   "metadata": {},
   "outputs": [
    {
     "name": "stdout",
     "output_type": "stream",
     "text": [
      "['Мещанский район' 'Останкинский район' 'Алексеевский район'\n",
      " 'район Ростокино' 'район Свиблово' 'Ярославский район'\n",
      " 'Академический район' 'район Черёмушки' 'Обручевский район'\n",
      " '44-47-й квартал района Коньково' 'район Ясенево'\n",
      " '41-й квартал района Коньково' 'район Беговой' 'район Аэропорт'\n",
      " 'район Сокол' 'Хорошёвский район' 'Донской район' 'Нагорный район'\n",
      " 'район Чертаново Южное' 'район Чертаново Северное'\n",
      " 'район Чертаново Центральное' 'район Нагатино-Садовники'\n",
      " 'район Южное Бутово' 'район Якиманка' 'Гагаринский район'\n",
      " 'Ломоносовский район' 'район Тропарёво-Никулино'\n",
      " 'район Проспект Вернадского' 'район Раменки' 'район Фили-Давыдково'\n",
      " 'район Дорогомилово' 'район Москворечье-Сабурово'\n",
      " 'район Орехово-Борисово Южное' 'район Орехово-Борисово Северное']\n",
      "Количество районов: 34\n"
     ]
    }
   ],
   "source": [
    "print(top_10_merged['area'].unique())\n",
    "print('Количество районов:', len(top_10_merged['area'].unique()))"
   ]
  },
  {
   "cell_type": "markdown",
   "metadata": {},
   "source": [
    "Наиболее популярными для заведений общественного питания оказались проспект Мира, Профсоюзная улица, Ленинградский проспект, Пресненская набережная, Варшавское шоссе и Ленинский проспект Также много заведений на проспекте Вернадского, Кутузовском проспекте, Каширском шоссе и Коровоградской улице. Данные улицы в совокупности захватывают 34 района"
   ]
  },
  {
   "cell_type": "markdown",
   "metadata": {},
   "source": [
    "#### Найти число улиц с одним объектом общественного питания и с помощью внешней информации определить районы"
   ]
  },
  {
   "cell_type": "code",
   "execution_count": 50,
   "metadata": {},
   "outputs": [],
   "source": [
    "rest_msc_tail = (rest_msc\n",
    "                   .pivot_table(index='street', values='area', aggfunc='count')\n",
    "                   .sort_values('area', ascending=False)\n",
    "                   .reset_index()\n",
    "                )\n",
    "rest_msc_tail = rest_msc_tail.rename(columns={'street':'street', 'area':'total'})"
   ]
  },
  {
   "cell_type": "code",
   "execution_count": 51,
   "metadata": {},
   "outputs": [
    {
     "data": {
      "text/html": [
       "<div>\n",
       "<style scoped>\n",
       "    .dataframe tbody tr th:only-of-type {\n",
       "        vertical-align: middle;\n",
       "    }\n",
       "\n",
       "    .dataframe tbody tr th {\n",
       "        vertical-align: top;\n",
       "    }\n",
       "\n",
       "    .dataframe thead th {\n",
       "        text-align: right;\n",
       "    }\n",
       "</style>\n",
       "<table border=\"1\" class=\"dataframe\">\n",
       "  <thead>\n",
       "    <tr style=\"text-align: right;\">\n",
       "      <th></th>\n",
       "      <th>street</th>\n",
       "      <th>total</th>\n",
       "    </tr>\n",
       "  </thead>\n",
       "  <tbody>\n",
       "    <tr>\n",
       "      <td>1317</td>\n",
       "      <td>улица Медведева</td>\n",
       "      <td>1</td>\n",
       "    </tr>\n",
       "    <tr>\n",
       "      <td>1318</td>\n",
       "      <td>Новобутовский проезд</td>\n",
       "      <td>1</td>\n",
       "    </tr>\n",
       "    <tr>\n",
       "      <td>1319</td>\n",
       "      <td>Нововладыкинский проезд</td>\n",
       "      <td>1</td>\n",
       "    </tr>\n",
       "    <tr>\n",
       "      <td>1320</td>\n",
       "      <td>3-й Павловский переулок</td>\n",
       "      <td>1</td>\n",
       "    </tr>\n",
       "    <tr>\n",
       "      <td>1321</td>\n",
       "      <td>улица Малые Каменщики</td>\n",
       "      <td>1</td>\n",
       "    </tr>\n",
       "    <tr>\n",
       "      <td>...</td>\n",
       "      <td>...</td>\n",
       "      <td>...</td>\n",
       "    </tr>\n",
       "    <tr>\n",
       "      <td>1837</td>\n",
       "      <td>Варсонофьевский переулок</td>\n",
       "      <td>1</td>\n",
       "    </tr>\n",
       "    <tr>\n",
       "      <td>1838</td>\n",
       "      <td>Малый Каретный переулок</td>\n",
       "      <td>1</td>\n",
       "    </tr>\n",
       "    <tr>\n",
       "      <td>1839</td>\n",
       "      <td>Малый Казённый переулок</td>\n",
       "      <td>1</td>\n",
       "    </tr>\n",
       "    <tr>\n",
       "      <td>1840</td>\n",
       "      <td>Малый Ивановский переулок</td>\n",
       "      <td>1</td>\n",
       "    </tr>\n",
       "    <tr>\n",
       "      <td>1841</td>\n",
       "      <td>Бродников переулок</td>\n",
       "      <td>1</td>\n",
       "    </tr>\n",
       "  </tbody>\n",
       "</table>\n",
       "<p>525 rows × 2 columns</p>\n",
       "</div>"
      ],
      "text/plain": [
       "                         street  total\n",
       "1317            улица Медведева      1\n",
       "1318       Новобутовский проезд      1\n",
       "1319    Нововладыкинский проезд      1\n",
       "1320    3-й Павловский переулок      1\n",
       "1321      улица Малые Каменщики      1\n",
       "...                         ...    ...\n",
       "1837   Варсонофьевский переулок      1\n",
       "1838    Малый Каретный переулок      1\n",
       "1839    Малый Казённый переулок      1\n",
       "1840  Малый Ивановский переулок      1\n",
       "1841         Бродников переулок      1\n",
       "\n",
       "[525 rows x 2 columns]"
      ]
     },
     "execution_count": 51,
     "metadata": {},
     "output_type": "execute_result"
    }
   ],
   "source": [
    "rest_msc_tail = rest_msc_tail[rest_msc_tail['total'] == 1]\n",
    "rest_msc_tail"
   ]
  },
  {
   "cell_type": "code",
   "execution_count": 52,
   "metadata": {},
   "outputs": [
    {
     "data": {
      "text/html": [
       "<div>\n",
       "<style scoped>\n",
       "    .dataframe tbody tr th:only-of-type {\n",
       "        vertical-align: middle;\n",
       "    }\n",
       "\n",
       "    .dataframe tbody tr th {\n",
       "        vertical-align: top;\n",
       "    }\n",
       "\n",
       "    .dataframe thead th {\n",
       "        text-align: right;\n",
       "    }\n",
       "</style>\n",
       "<table border=\"1\" class=\"dataframe\">\n",
       "  <thead>\n",
       "    <tr style=\"text-align: right;\">\n",
       "      <th></th>\n",
       "      <th>street</th>\n",
       "      <th>total</th>\n",
       "      <th>id</th>\n",
       "      <th>name</th>\n",
       "      <th>chain</th>\n",
       "      <th>type</th>\n",
       "      <th>address</th>\n",
       "      <th>number</th>\n",
       "      <th>coordinates</th>\n",
       "      <th>area</th>\n",
       "    </tr>\n",
       "  </thead>\n",
       "  <tbody>\n",
       "    <tr>\n",
       "      <td>0</td>\n",
       "      <td>улица Медведева</td>\n",
       "      <td>1</td>\n",
       "      <td>28795</td>\n",
       "      <td>столовая «ооо вито-1»</td>\n",
       "      <td>нет</td>\n",
       "      <td>столовая</td>\n",
       "      <td>город Москва, улица Медведева, дом 6</td>\n",
       "      <td>120</td>\n",
       "      <td>['37.883671', '55.717366']</td>\n",
       "      <td>6-й, 7-й, 8-й кварталы</td>\n",
       "    </tr>\n",
       "    <tr>\n",
       "      <td>1</td>\n",
       "      <td>Новобутовский проезд</td>\n",
       "      <td>1</td>\n",
       "      <td>98910</td>\n",
       "      <td>subway</td>\n",
       "      <td>да</td>\n",
       "      <td>предприятие быстрого обслуживания</td>\n",
       "      <td>город Москва, Новобутовский проезд, владение 9...</td>\n",
       "      <td>12</td>\n",
       "      <td>['37.558858', '55.553732']</td>\n",
       "      <td>район Южное Бутово</td>\n",
       "    </tr>\n",
       "    <tr>\n",
       "      <td>2</td>\n",
       "      <td>Нововладыкинский проезд</td>\n",
       "      <td>1</td>\n",
       "      <td>183018</td>\n",
       "      <td>кафе свежъ</td>\n",
       "      <td>нет</td>\n",
       "      <td>кафе</td>\n",
       "      <td>город Москва, Нововладыкинский проезд, дом 8, ...</td>\n",
       "      <td>96</td>\n",
       "      <td>['37.57492', '55.851429']</td>\n",
       "      <td>район Отрадное</td>\n",
       "    </tr>\n",
       "    <tr>\n",
       "      <td>3</td>\n",
       "      <td>3-й Павловский переулок</td>\n",
       "      <td>1</td>\n",
       "      <td>127731</td>\n",
       "      <td>столовая</td>\n",
       "      <td>нет</td>\n",
       "      <td>столовая</td>\n",
       "      <td>город Москва, 3-й Павловский переулок, дом 2</td>\n",
       "      <td>100</td>\n",
       "      <td>['37.628631', '55.718877']</td>\n",
       "      <td>Даниловский район</td>\n",
       "    </tr>\n",
       "    <tr>\n",
       "      <td>4</td>\n",
       "      <td>улица Малые Каменщики</td>\n",
       "      <td>1</td>\n",
       "      <td>150827</td>\n",
       "      <td>гбоу школа №498</td>\n",
       "      <td>нет</td>\n",
       "      <td>столовая</td>\n",
       "      <td>город Москва, улица Малые Каменщики, дом 18</td>\n",
       "      <td>0</td>\n",
       "      <td>['37.654188', '55.735555']</td>\n",
       "      <td>Таганский район</td>\n",
       "    </tr>\n",
       "    <tr>\n",
       "      <td>...</td>\n",
       "      <td>...</td>\n",
       "      <td>...</td>\n",
       "      <td>...</td>\n",
       "      <td>...</td>\n",
       "      <td>...</td>\n",
       "      <td>...</td>\n",
       "      <td>...</td>\n",
       "      <td>...</td>\n",
       "      <td>...</td>\n",
       "      <td>...</td>\n",
       "    </tr>\n",
       "    <tr>\n",
       "      <td>527</td>\n",
       "      <td>Варсонофьевский переулок</td>\n",
       "      <td>1</td>\n",
       "      <td>24155</td>\n",
       "      <td>советские времена</td>\n",
       "      <td>да</td>\n",
       "      <td>кафе</td>\n",
       "      <td>город Москва, Варсонофьевский переулок, дом 6</td>\n",
       "      <td>82</td>\n",
       "      <td>['37.62572', '55.763194']</td>\n",
       "      <td>Мещанский район</td>\n",
       "    </tr>\n",
       "    <tr>\n",
       "      <td>528</td>\n",
       "      <td>Малый Каретный переулок</td>\n",
       "      <td>1</td>\n",
       "      <td>156723</td>\n",
       "      <td>eleven-hall</td>\n",
       "      <td>нет</td>\n",
       "      <td>ресторан</td>\n",
       "      <td>город Москва, Малый Каретный переулок, дом 11,...</td>\n",
       "      <td>100</td>\n",
       "      <td>['37.614806', '55.771327']</td>\n",
       "      <td>Тверской район</td>\n",
       "    </tr>\n",
       "    <tr>\n",
       "      <td>529</td>\n",
       "      <td>Малый Казённый переулок</td>\n",
       "      <td>1</td>\n",
       "      <td>27631</td>\n",
       "      <td>школа 1621</td>\n",
       "      <td>нет</td>\n",
       "      <td>столовая</td>\n",
       "      <td>город Москва, Малый Казённый переулок, дом 3</td>\n",
       "      <td>100</td>\n",
       "      <td>['37.65267', '55.760287']</td>\n",
       "      <td>Басманный район</td>\n",
       "    </tr>\n",
       "    <tr>\n",
       "      <td>530</td>\n",
       "      <td>Малый Ивановский переулок</td>\n",
       "      <td>1</td>\n",
       "      <td>25945</td>\n",
       "      <td>ноев ковчег</td>\n",
       "      <td>нет</td>\n",
       "      <td>ресторан</td>\n",
       "      <td>город Москва, Малый Ивановский переулок, дом 4...</td>\n",
       "      <td>100</td>\n",
       "      <td>['37.640641', '55.75364']</td>\n",
       "      <td>Басманный район</td>\n",
       "    </tr>\n",
       "    <tr>\n",
       "      <td>531</td>\n",
       "      <td>Бродников переулок</td>\n",
       "      <td>1</td>\n",
       "      <td>188085</td>\n",
       "      <td>gournest гнездо гурмана</td>\n",
       "      <td>нет</td>\n",
       "      <td>ресторан</td>\n",
       "      <td>город Москва, Бродников переулок, дом 10, корп...</td>\n",
       "      <td>40</td>\n",
       "      <td>['37.616189', '55.737015']</td>\n",
       "      <td>район Якиманка</td>\n",
       "    </tr>\n",
       "  </tbody>\n",
       "</table>\n",
       "<p>532 rows × 10 columns</p>\n",
       "</div>"
      ],
      "text/plain": [
       "                        street  total      id                     name chain  \\\n",
       "0              улица Медведева      1   28795    столовая «ооо вито-1»   нет   \n",
       "1         Новобутовский проезд      1   98910                   subway    да   \n",
       "2      Нововладыкинский проезд      1  183018               кафе свежъ   нет   \n",
       "3      3-й Павловский переулок      1  127731                 столовая   нет   \n",
       "4        улица Малые Каменщики      1  150827          гбоу школа №498   нет   \n",
       "..                         ...    ...     ...                      ...   ...   \n",
       "527   Варсонофьевский переулок      1   24155        советские времена    да   \n",
       "528    Малый Каретный переулок      1  156723              eleven-hall   нет   \n",
       "529    Малый Казённый переулок      1   27631               школа 1621   нет   \n",
       "530  Малый Ивановский переулок      1   25945              ноев ковчег   нет   \n",
       "531         Бродников переулок      1  188085  gournest гнездо гурмана   нет   \n",
       "\n",
       "                                  type  \\\n",
       "0                             столовая   \n",
       "1    предприятие быстрого обслуживания   \n",
       "2                                 кафе   \n",
       "3                             столовая   \n",
       "4                             столовая   \n",
       "..                                 ...   \n",
       "527                               кафе   \n",
       "528                           ресторан   \n",
       "529                           столовая   \n",
       "530                           ресторан   \n",
       "531                           ресторан   \n",
       "\n",
       "                                               address  number  \\\n",
       "0                 город Москва, улица Медведева, дом 6     120   \n",
       "1    город Москва, Новобутовский проезд, владение 9...      12   \n",
       "2    город Москва, Нововладыкинский проезд, дом 8, ...      96   \n",
       "3         город Москва, 3-й Павловский переулок, дом 2     100   \n",
       "4          город Москва, улица Малые Каменщики, дом 18       0   \n",
       "..                                                 ...     ...   \n",
       "527      город Москва, Варсонофьевский переулок, дом 6      82   \n",
       "528  город Москва, Малый Каретный переулок, дом 11,...     100   \n",
       "529       город Москва, Малый Казённый переулок, дом 3     100   \n",
       "530  город Москва, Малый Ивановский переулок, дом 4...     100   \n",
       "531  город Москва, Бродников переулок, дом 10, корп...      40   \n",
       "\n",
       "                    coordinates                    area  \n",
       "0    ['37.883671', '55.717366']  6-й, 7-й, 8-й кварталы  \n",
       "1    ['37.558858', '55.553732']      район Южное Бутово  \n",
       "2     ['37.57492', '55.851429']          район Отрадное  \n",
       "3    ['37.628631', '55.718877']       Даниловский район  \n",
       "4    ['37.654188', '55.735555']         Таганский район  \n",
       "..                          ...                     ...  \n",
       "527   ['37.62572', '55.763194']         Мещанский район  \n",
       "528  ['37.614806', '55.771327']          Тверской район  \n",
       "529   ['37.65267', '55.760287']         Басманный район  \n",
       "530   ['37.640641', '55.75364']         Басманный район  \n",
       "531  ['37.616189', '55.737015']          район Якиманка  \n",
       "\n",
       "[532 rows x 10 columns]"
      ]
     },
     "execution_count": 52,
     "metadata": {},
     "output_type": "execute_result"
    }
   ],
   "source": [
    "tail_merged = rest_msc_tail.merge(rest_msc, on='street', how='left')\n",
    "tail_merged"
   ]
  },
  {
   "cell_type": "code",
   "execution_count": 53,
   "metadata": {},
   "outputs": [],
   "source": [
    "tail_merged = tail_merged[tail_merged['area'].str.contains('район', na=False) &\n",
    "                          ~(tail_merged['area'].str.contains('микрорайон', na=False))]"
   ]
  },
  {
   "cell_type": "code",
   "execution_count": 54,
   "metadata": {},
   "outputs": [
    {
     "name": "stdout",
     "output_type": "stream",
     "text": [
      "['район Южное Бутово' 'район Отрадное' 'Даниловский район'\n",
      " 'Таганский район' 'район Богородское' 'район Кунцево'\n",
      " 'район Дорогомилово' 'Тверской район' 'Алексеевский район'\n",
      " 'район Замоскворечье' 'район Преображенское' 'район Марьина Роща'\n",
      " 'район Чертаново Южное' 'Южнопортовый район' 'Басманный район'\n",
      " 'Головинский район' 'район Ростокино' 'район Царицыно' 'район Печатники'\n",
      " 'район Перово' 'район Щукино' 'район Сокольники' 'Останкинский район'\n",
      " 'Хорошёвский район' 'район Якиманка' 'Рязанский район'\n",
      " 'район Ново-Переделкино' 'район Хамовники' 'район Коптево'\n",
      " 'Мещанский район' 'район Котловка' 'район Северное Медведково'\n",
      " 'район Фили-Давыдково' 'район Соколиная Гора' 'район Аэропорт'\n",
      " 'Нижегородский район' 'район Капотня' 'район Ясенево' 'район Зюзино'\n",
      " 'Нагорный район' 'район Люблино' 'район Митино'\n",
      " 'район Москворечье-Сабурово' 'Савёловский район' 'район Строгино'\n",
      " 'район Южное Тушино' 'район Черёмушки' 'Тимирязевский район'\n",
      " 'район Лефортово' 'район Измайлово' 'Можайский район' 'Ярославский район'\n",
      " 'район Кузьминки' 'район Покровское-Стрешнево' 'район Хорошёво-Мнёвники'\n",
      " 'район Марьино' 'Лосиноостровский район' 'район Текстильщики'\n",
      " 'район Сокол' 'район Свиблово' 'Красносельский район'\n",
      " 'Бабушкинский район' 'Бутырский район' 'район Бирюлёво Восточное'\n",
      " 'район Северное Измайлово' 'район Косино-Ухтомский'\n",
      " 'район Филёвский Парк' 'район Гольяново' 'Донской район'\n",
      " 'Пресненский район' 'район Западное Дегунино' 'район Беговой'\n",
      " 'Войковский район' 'район Восточное Измайлово' 'район Савёлки'\n",
      " 'район Левобережный' 'район Очаково-Матвеевское' 'район Ивановское'\n",
      " 'район Внуково' 'район Выхино-Жулебино' 'район Куркино'\n",
      " 'район Чертаново Северное' 'район Новогиреево' 'район Арбат'\n",
      " 'Дмитровский район' 'Гагаринский район' 'район Метрогородок'\n",
      " 'район Раменки' 'Обручевский район' 'район Восточный' 'район Марфино'\n",
      " 'Алтуфьевский район']\n",
      "Количество районов: 92\n"
     ]
    }
   ],
   "source": [
    "print(tail_merged['area'].unique())\n",
    "print('Количество районов:', len(tail_merged['area'].unique()))"
   ]
  },
  {
   "cell_type": "markdown",
   "metadata": {},
   "source": [
    "Количество улиц, где находится всего 1 заведение, составляет 532 и в совокупности они находятся в 92 районах города"
   ]
  },
  {
   "cell_type": "markdown",
   "metadata": {},
   "source": [
    "#### Изучить распределение количества посадочных мест для улиц с большим количеством объектов общественного питания и выявить закономерности"
   ]
  },
  {
   "cell_type": "markdown",
   "metadata": {},
   "source": [
    "Для выявление подобных закаономерности выберим топ3 улицы - проспект Мира, Профсоюзная улица и Ленинградский проспект - и рассмотрим распределение посадных мест объектов общепита, которые на них находятся"
   ]
  },
  {
   "cell_type": "code",
   "execution_count": 55,
   "metadata": {},
   "outputs": [],
   "source": [
    "top_10_merged_mira = top_10_merged.query(\n",
    "    'street == \"проспект Мира\"')[['id', 'number']].sort_values('number')"
   ]
  },
  {
   "cell_type": "code",
   "execution_count": 56,
   "metadata": {},
   "outputs": [
    {
     "data": {
      "text/html": [
       "<div>\n",
       "<style scoped>\n",
       "    .dataframe tbody tr th:only-of-type {\n",
       "        vertical-align: middle;\n",
       "    }\n",
       "\n",
       "    .dataframe tbody tr th {\n",
       "        vertical-align: top;\n",
       "    }\n",
       "\n",
       "    .dataframe thead th {\n",
       "        text-align: right;\n",
       "    }\n",
       "</style>\n",
       "<table border=\"1\" class=\"dataframe\">\n",
       "  <thead>\n",
       "    <tr style=\"text-align: right;\">\n",
       "      <th></th>\n",
       "      <th>id</th>\n",
       "      <th>number</th>\n",
       "    </tr>\n",
       "  </thead>\n",
       "  <tbody>\n",
       "    <tr>\n",
       "      <td>24</td>\n",
       "      <td>165712</td>\n",
       "      <td>0</td>\n",
       "    </tr>\n",
       "    <tr>\n",
       "      <td>185</td>\n",
       "      <td>221235</td>\n",
       "      <td>0</td>\n",
       "    </tr>\n",
       "    <tr>\n",
       "      <td>184</td>\n",
       "      <td>198313</td>\n",
       "      <td>0</td>\n",
       "    </tr>\n",
       "    <tr>\n",
       "      <td>26</td>\n",
       "      <td>153638</td>\n",
       "      <td>0</td>\n",
       "    </tr>\n",
       "    <tr>\n",
       "      <td>181</td>\n",
       "      <td>179024</td>\n",
       "      <td>0</td>\n",
       "    </tr>\n",
       "    <tr>\n",
       "      <td>...</td>\n",
       "      <td>...</td>\n",
       "      <td>...</td>\n",
       "    </tr>\n",
       "    <tr>\n",
       "      <td>122</td>\n",
       "      <td>23127</td>\n",
       "      <td>250</td>\n",
       "    </tr>\n",
       "    <tr>\n",
       "      <td>69</td>\n",
       "      <td>27016</td>\n",
       "      <td>250</td>\n",
       "    </tr>\n",
       "    <tr>\n",
       "      <td>68</td>\n",
       "      <td>27015</td>\n",
       "      <td>250</td>\n",
       "    </tr>\n",
       "    <tr>\n",
       "      <td>94</td>\n",
       "      <td>25237</td>\n",
       "      <td>273</td>\n",
       "    </tr>\n",
       "    <tr>\n",
       "      <td>180</td>\n",
       "      <td>175475</td>\n",
       "      <td>326</td>\n",
       "    </tr>\n",
       "  </tbody>\n",
       "</table>\n",
       "<p>185 rows × 2 columns</p>\n",
       "</div>"
      ],
      "text/plain": [
       "         id  number\n",
       "24   165712       0\n",
       "185  221235       0\n",
       "184  198313       0\n",
       "26   153638       0\n",
       "181  179024       0\n",
       "..      ...     ...\n",
       "122   23127     250\n",
       "69    27016     250\n",
       "68    27015     250\n",
       "94    25237     273\n",
       "180  175475     326\n",
       "\n",
       "[185 rows x 2 columns]"
      ]
     },
     "execution_count": 56,
     "metadata": {},
     "output_type": "execute_result"
    }
   ],
   "source": [
    "top_10_merged_mira"
   ]
  },
  {
   "cell_type": "code",
   "execution_count": 57,
   "metadata": {},
   "outputs": [
    {
     "data": {
      "text/plain": [
       "count    185.000000\n",
       "mean      63.043243\n",
       "std       59.826364\n",
       "min        0.000000\n",
       "25%       20.000000\n",
       "50%       45.000000\n",
       "75%       84.000000\n",
       "max      326.000000\n",
       "Name: number, dtype: float64"
      ]
     },
     "execution_count": 57,
     "metadata": {},
     "output_type": "execute_result"
    }
   ],
   "source": [
    "top_10_merged_mira['number'].describe()"
   ]
  },
  {
   "cell_type": "code",
   "execution_count": 58,
   "metadata": {},
   "outputs": [],
   "source": [
    "top_10_merged_prof = top_10_merged.query(\n",
    "    'street == \"Профсоюзная улица\"')[['id', 'number']].sort_values('number')"
   ]
  },
  {
   "cell_type": "code",
   "execution_count": 59,
   "metadata": {},
   "outputs": [
    {
     "data": {
      "text/html": [
       "<div>\n",
       "<style scoped>\n",
       "    .dataframe tbody tr th:only-of-type {\n",
       "        vertical-align: middle;\n",
       "    }\n",
       "\n",
       "    .dataframe tbody tr th {\n",
       "        vertical-align: top;\n",
       "    }\n",
       "\n",
       "    .dataframe thead th {\n",
       "        text-align: right;\n",
       "    }\n",
       "</style>\n",
       "<table border=\"1\" class=\"dataframe\">\n",
       "  <thead>\n",
       "    <tr style=\"text-align: right;\">\n",
       "      <th></th>\n",
       "      <th>id</th>\n",
       "      <th>number</th>\n",
       "    </tr>\n",
       "  </thead>\n",
       "  <tbody>\n",
       "    <tr>\n",
       "      <td>188</td>\n",
       "      <td>154596</td>\n",
       "      <td>0</td>\n",
       "    </tr>\n",
       "    <tr>\n",
       "      <td>306</td>\n",
       "      <td>200582</td>\n",
       "      <td>0</td>\n",
       "    </tr>\n",
       "    <tr>\n",
       "      <td>284</td>\n",
       "      <td>202756</td>\n",
       "      <td>0</td>\n",
       "    </tr>\n",
       "    <tr>\n",
       "      <td>285</td>\n",
       "      <td>202743</td>\n",
       "      <td>0</td>\n",
       "    </tr>\n",
       "    <tr>\n",
       "      <td>286</td>\n",
       "      <td>203280</td>\n",
       "      <td>0</td>\n",
       "    </tr>\n",
       "    <tr>\n",
       "      <td>...</td>\n",
       "      <td>...</td>\n",
       "      <td>...</td>\n",
       "    </tr>\n",
       "    <tr>\n",
       "      <td>316</td>\n",
       "      <td>167593</td>\n",
       "      <td>160</td>\n",
       "    </tr>\n",
       "    <tr>\n",
       "      <td>317</td>\n",
       "      <td>21700</td>\n",
       "      <td>180</td>\n",
       "    </tr>\n",
       "    <tr>\n",
       "      <td>342</td>\n",
       "      <td>29384</td>\n",
       "      <td>200</td>\n",
       "    </tr>\n",
       "    <tr>\n",
       "      <td>195</td>\n",
       "      <td>29061</td>\n",
       "      <td>200</td>\n",
       "    </tr>\n",
       "    <tr>\n",
       "      <td>343</td>\n",
       "      <td>29383</td>\n",
       "      <td>210</td>\n",
       "    </tr>\n",
       "  </tbody>\n",
       "</table>\n",
       "<p>106 rows × 2 columns</p>\n",
       "</div>"
      ],
      "text/plain": [
       "         id  number\n",
       "188  154596       0\n",
       "306  200582       0\n",
       "284  202756       0\n",
       "285  202743       0\n",
       "286  203280       0\n",
       "..      ...     ...\n",
       "316  167593     160\n",
       "317   21700     180\n",
       "342   29384     200\n",
       "195   29061     200\n",
       "343   29383     210\n",
       "\n",
       "[106 rows x 2 columns]"
      ]
     },
     "execution_count": 59,
     "metadata": {},
     "output_type": "execute_result"
    }
   ],
   "source": [
    "top_10_merged_prof"
   ]
  },
  {
   "cell_type": "code",
   "execution_count": 60,
   "metadata": {},
   "outputs": [
    {
     "data": {
      "text/plain": [
       "count    106.000000\n",
       "mean      39.783019\n",
       "std       49.013313\n",
       "min        0.000000\n",
       "25%        0.000000\n",
       "50%       24.000000\n",
       "75%       54.250000\n",
       "max      210.000000\n",
       "Name: number, dtype: float64"
      ]
     },
     "execution_count": 60,
     "metadata": {},
     "output_type": "execute_result"
    }
   ],
   "source": [
    "top_10_merged_prof['number'].describe()"
   ]
  },
  {
   "cell_type": "code",
   "execution_count": 61,
   "metadata": {},
   "outputs": [],
   "source": [
    "top_10_merged_lenin = top_10_merged.query(\n",
    "    'street == \"Ленинградский проспект\"')[['id', 'number']].sort_values('number')"
   ]
  },
  {
   "cell_type": "code",
   "execution_count": 62,
   "metadata": {},
   "outputs": [
    {
     "data": {
      "text/html": [
       "<div>\n",
       "<style scoped>\n",
       "    .dataframe tbody tr th:only-of-type {\n",
       "        vertical-align: middle;\n",
       "    }\n",
       "\n",
       "    .dataframe tbody tr th {\n",
       "        vertical-align: top;\n",
       "    }\n",
       "\n",
       "    .dataframe thead th {\n",
       "        text-align: right;\n",
       "    }\n",
       "</style>\n",
       "<table border=\"1\" class=\"dataframe\">\n",
       "  <thead>\n",
       "    <tr style=\"text-align: right;\">\n",
       "      <th></th>\n",
       "      <th>id</th>\n",
       "      <th>number</th>\n",
       "    </tr>\n",
       "  </thead>\n",
       "  <tbody>\n",
       "    <tr>\n",
       "      <td>534</td>\n",
       "      <td>222301</td>\n",
       "      <td>0</td>\n",
       "    </tr>\n",
       "    <tr>\n",
       "      <td>413</td>\n",
       "      <td>198436</td>\n",
       "      <td>0</td>\n",
       "    </tr>\n",
       "    <tr>\n",
       "      <td>486</td>\n",
       "      <td>211466</td>\n",
       "      <td>0</td>\n",
       "    </tr>\n",
       "    <tr>\n",
       "      <td>496</td>\n",
       "      <td>161850</td>\n",
       "      <td>0</td>\n",
       "    </tr>\n",
       "    <tr>\n",
       "      <td>502</td>\n",
       "      <td>170264</td>\n",
       "      <td>0</td>\n",
       "    </tr>\n",
       "    <tr>\n",
       "      <td>...</td>\n",
       "      <td>...</td>\n",
       "      <td>...</td>\n",
       "    </tr>\n",
       "    <tr>\n",
       "      <td>483</td>\n",
       "      <td>27012</td>\n",
       "      <td>180</td>\n",
       "    </tr>\n",
       "    <tr>\n",
       "      <td>446</td>\n",
       "      <td>27043</td>\n",
       "      <td>190</td>\n",
       "    </tr>\n",
       "    <tr>\n",
       "      <td>528</td>\n",
       "      <td>199954</td>\n",
       "      <td>232</td>\n",
       "    </tr>\n",
       "    <tr>\n",
       "      <td>475</td>\n",
       "      <td>69359</td>\n",
       "      <td>300</td>\n",
       "    </tr>\n",
       "    <tr>\n",
       "      <td>480</td>\n",
       "      <td>27033</td>\n",
       "      <td>625</td>\n",
       "    </tr>\n",
       "  </tbody>\n",
       "</table>\n",
       "<p>164 rows × 2 columns</p>\n",
       "</div>"
      ],
      "text/plain": [
       "         id  number\n",
       "534  222301       0\n",
       "413  198436       0\n",
       "486  211466       0\n",
       "496  161850       0\n",
       "502  170264       0\n",
       "..      ...     ...\n",
       "483   27012     180\n",
       "446   27043     190\n",
       "528  199954     232\n",
       "475   69359     300\n",
       "480   27033     625\n",
       "\n",
       "[164 rows x 2 columns]"
      ]
     },
     "execution_count": 62,
     "metadata": {},
     "output_type": "execute_result"
    }
   ],
   "source": [
    "top_10_merged_lenin"
   ]
  },
  {
   "cell_type": "code",
   "execution_count": 63,
   "metadata": {},
   "outputs": [
    {
     "data": {
      "text/plain": [
       "count    164.000000\n",
       "mean      52.426829\n",
       "std       64.348558\n",
       "min        0.000000\n",
       "25%       15.000000\n",
       "50%       40.000000\n",
       "75%       70.000000\n",
       "max      625.000000\n",
       "Name: number, dtype: float64"
      ]
     },
     "execution_count": 63,
     "metadata": {},
     "output_type": "execute_result"
    }
   ],
   "source": [
    "top_10_merged_lenin['number'].describe()"
   ]
  },
  {
   "cell_type": "code",
   "execution_count": 64,
   "metadata": {},
   "outputs": [
    {
     "data": {
      "text/plain": [
       "<Figure size 864x648 with 0 Axes>"
      ]
     },
     "metadata": {},
     "output_type": "display_data"
    },
    {
     "data": {
      "image/png": "[encoded data removed]",
      "text/plain": [
       "<Figure size 864x648 with 1 Axes>"
      ]
     },
     "metadata": {},
     "output_type": "display_data"
    }
   ],
   "source": [
    "number_scatter_1 = pd.Series(range(0, len(top_10_merged_mira['id'])))\n",
    "number_scatter_2 = pd.Series(range(0, len(top_10_merged_prof['id'])))\n",
    "number_scatter_3 = pd.Series(range(0, len(top_10_merged_lenin['id'])))\n",
    "\n",
    "plt.figure(figsize=(12, 9))\n",
    "fig, scatter = plt.subplots()\n",
    "scatter.scatter(number_scatter_1, top_10_merged_mira['number'], label = 'Проспект Мира')\n",
    "scatter.scatter(number_scatter_2, top_10_merged_prof['number'], label = 'Профсоюзная улица')\n",
    "scatter.scatter(number_scatter_3, top_10_merged_lenin['number'], label = 'Ленинградский проспект')\n",
    "plt.title('Распределение количества посадочных мест на топ3 улицах Москвы', fontsize=15)\n",
    "plt.xlabel('Заведения', fontsize=12)\n",
    "plt.ylabel('Количество мест', fontsize=12)\n",
    "scatter.legend();"
   ]
  },
  {
   "cell_type": "markdown",
   "metadata": {},
   "source": [
    "Выполненный анализ позволяет сделать следующие выводы:\n",
    "- проспект Мира - 185 объектов со средним количеством посадочных - 63 и медианой 45. По распределению видим сосредоточение большинства заведений в интервале от 20 до 100 мест;\n",
    "- Профсоюзная улица - 106 объектов со средним количеством посадочных мест 39.8 и медианой 24. В данном случае видно смещение в меньшую сторону;\n",
    "- Ленинградский проспект - 164 объектов со средним 52.4 и медианой 40 мест. Распределение основной группы заведений (до 100 мест) идентично проспекту Мира."
   ]
  },
  {
   "cell_type": "markdown",
   "metadata": {},
   "source": [
    "#### Сделать общий вывод и дать рекомендации о виде заведения, количестве посадочных мест и районе расположения. Указать на пути развития сети"
   ]
  },
  {
   "cell_type": "markdown",
   "metadata": {},
   "source": [
    "Общий вывод:\n",
    "1. Исходный датасет прдобработан: переименованы колонны, удалены дубликаты, выбраны строки, относящиеся только к Москве;\n",
    "2. Наиболее распространенным видом заведения общепита является Кафе - около 6000;\n",
    "3. Следом располагаются Столовая, Ресторан и Предприятие быстрого обслуживания от 1900 до 2600;\n",
    "4. Наименьшее количество заведений в типах Закусочная, Кафетерий и Магазин (отдел кулинарии) - менее 400;\n",
    "5. Категориальное распределение показало, что наиболее характерно сетевое распределение для предприятий быстрого обслуживания. Также большую долю сетевые общепиты занимают в кафе и ресторанах;\n",
    "6. Распределение количества посадочных мест показывает, что до значения 100 идет постепенное увеличение количества мест от одного заведения к другому. После идет резкий рост (от 100 до 600). Статистическая характеристика подтверждает данное наблюдение и указывает, что 90% заведения имеют количество посадочных мест менее 120;\n",
    "7. Распределение по среднему количеству посадочных мест среди заведений различного вида показывает, что больше всего мест в столовых - 130 и ресторанах - 97. Это объясняется спецификой заведений и потребностью в одновременном обслуживании большого количества гостей на месте. В случае с кафетерием, закусочной и отделом кулинарии в магазинах ситуация обратная и среднее количество посадочных мест не превышает 10;\n",
    "8. Наиболее популярными для заведений общественного питания оказались проспект Мира, Профсоюзная улица, Ленинградский проспект, Пресненская набережная, Варшавское шоссе и Ленинский проспект Также много заведений на проспекте Вернадского, Кутузовском проспекте, Каширском шоссе и Коровоградской улице. Данные улицы в совокупности захватывают 58 районов"
   ]
  },
  {
   "cell_type": "markdown",
   "metadata": {},
   "source": [
    "Решение о развитии сети прдлагается выполнять на основе трех критериев - вид заведения, количество мест и район. При внедрении инновации - роботов для обслуживания - нужно учитывать, что много нестандартных решений в других вопросах (вид, места, район) могут значительно повысить риск проекта."
   ]
  },
  {
   "cell_type": "markdown",
   "metadata": {},
   "source": [
    "Вид заведения:\n",
    "\n",
    "Наиболее популярным видом заведения по итогам исследования оказались кафе. Подобное преимущество указывает на высокую \"выживаемость\" таких заведений относительно других групп и позволяет предположить, что данный тип заведений наилучшим образом подойдет для нашей задачи."
   ]
  },
  {
   "cell_type": "markdown",
   "metadata": {},
   "source": [
    "Количество посадочных мест:\n",
    "\n",
    "Распределение количества посадочных мест для кафе во всей Москве установилось на уровне 40. При анализе заведений из топ3 выявлено, что медианное количество мест находится в интервале от 25 до 45 мест. При выборе количества посадочных мест стоит учитывать специфику обслуживания посетителей роботами и различные поведенческие факторы со стороны потребителей (возможно потребуется дополнительное исследование). На основе имеющейся информации стоит предположить, что для проекта заведения с роботами достаточным будет 30-35 посадочных мест."
   ]
  },
  {
   "cell_type": "markdown",
   "metadata": {},
   "source": [
    "Район распроложения:\n",
    "\n",
    "Для привлечения внимания стоит в первую очередь рассматривать улицы из топ10, так как наибольшее количество заведений указывает на большую \"проходимость\" в этих районах. Среди топ 10 стоит начать с проспекта Мира, Профсоюзной улица и Ленинградского проспекта"
   ]
  },
  {
   "cell_type": "markdown",
   "metadata": {},
   "source": [
    "### Подготовка презентации"
   ]
  },
  {
   "cell_type": "markdown",
   "metadata": {},
   "source": [
    "https://docs.google.com/presentation/d/1wyT46N0Nc_PT1VTtmosogF4gB5bNiFpaHaemFEEhFLE/edit?usp=sharing"
   ]
  }
 ],
 "metadata": {
  "kernelspec": {
   "display_name": "Python 3",
   "language": "python",
   "name": "python3"
  },
  "language_info": {
   "codemirror_mode": {
    "name": "ipython",
    "version": 3
   },
   "file_extension": ".py",
   "mimetype": "text/x-python",
   "name": "python",
   "nbconvert_exporter": "python",
   "pygments_lexer": "ipython3",
   "version": "3.7.6"
  }
 },
 "nbformat": 4,
 "nbformat_minor": 2
}
